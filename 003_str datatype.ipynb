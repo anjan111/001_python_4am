{
 "cells": [
  {
   "cell_type": "markdown",
   "metadata": {},
   "source": [
    "### Str \n",
    "\n",
    "==>>> Collection of characters with in the \"\" / ''  / '''''' / \"\"\" \"\"\"\n"
   ]
  },
  {
   "cell_type": "code",
   "execution_count": 1,
   "metadata": {},
   "outputs": [
    {
     "name": "stdout",
     "output_type": "stream",
     "text": [
      "<type 'str'>\n",
      "<type 'str'>\n",
      "<type 'str'>\n",
      "<type 'str'>\n"
     ]
    }
   ],
   "source": [
    "a = 'python'\n",
    "print type(a)\n",
    "a = \"python\"\n",
    "print type(a)\n",
    "a = '''python'''\n",
    "print type(a)\n",
    "a = \"\"\"python\"\"\"\n",
    "print type(a)"
   ]
  },
  {
   "cell_type": "code",
   "execution_count": 2,
   "metadata": {},
   "outputs": [
    {
     "name": "stdout",
     "output_type": "stream",
     "text": [
      "p\n",
      "y\n",
      "t\n",
      "h\n",
      "o\n",
      "n\n"
     ]
    }
   ],
   "source": [
    "# access the character\n",
    "'''\n",
    "--->> indexing \n",
    "--->> slicing \n",
    "--->> dicing \n",
    "'''\n",
    "# indexing -->> var[index_number]\n",
    "# Positive index   0 to len(str)-1\n",
    "var = \"python\"\n",
    "print var[0]\n",
    "print var[1]\n",
    "print var[2]\n",
    "print var[3]\n",
    "print var[4]\n",
    "print var[5]"
   ]
  },
  {
   "cell_type": "code",
   "execution_count": 3,
   "metadata": {},
   "outputs": [
    {
     "name": "stdout",
     "output_type": "stream",
     "text": [
      "n\n",
      "o\n",
      "h\n",
      "t\n",
      "y\n",
      "p\n"
     ]
    }
   ],
   "source": [
    "# Negative index   -1 to -len \n",
    "var = \"python\"\n",
    "print var[-1]\n",
    "print var[-2]\n",
    "print var[-3]\n",
    "print var[-4]\n",
    "print var[-5]\n",
    "print var[-6]"
   ]
  },
  {
   "cell_type": "code",
   "execution_count": 6,
   "metadata": {},
   "outputs": [
    {
     "name": "stdout",
     "output_type": "stream",
     "text": [
      "hon pro\n",
      "python pro\n",
      "hon programming Langage\n"
     ]
    }
   ],
   "source": [
    "# str slicing  var [ start :  stop ]\n",
    "'''\n",
    "Access the group of continuos characters\n",
    "'''\n",
    "var = \"python programming Langage\"\n",
    "print var[3:10]# \"3456789\"\n",
    "print var[:10]# start ---> 0\n",
    "print var[3:] # stop ----> len of str"
   ]
  },
  {
   "cell_type": "code",
   "execution_count": 10,
   "metadata": {},
   "outputs": [
    {
     "name": "stdout",
     "output_type": "stream",
     "text": [
      "hnPormi\n",
      "nomg\n",
      "hon Pro\n",
      "pto r\n",
      "hPriLu\n"
     ]
    }
   ],
   "source": [
    "# str dicing   var[ start  :  stop  :   step ]\n",
    "'''\n",
    "To access the step wise index characters \n",
    "'''\n",
    "var = \"python Programming Language\"\n",
    "print var[3:17:2]# 3,5,7,9,11,13,15\n",
    "print var[5:20:4]#5,9,13,17\n",
    "print var[3:10:]#3456789  # step  --> 1\n",
    "print var[:10:2]# start ---> 0\n",
    "print var[3::4]#stop --->> len of str"
   ]
  },
  {
   "cell_type": "code",
   "execution_count": 11,
   "metadata": {},
   "outputs": [
    {
     "name": "stdout",
     "output_type": "stream",
     "text": [
      "t\n"
     ]
    },
    {
     "ename": "TypeError",
     "evalue": "'str' object does not support item assignment",
     "output_type": "error",
     "traceback": [
      "\u001b[1;31m---------------------------------------------------------------------------\u001b[0m",
      "\u001b[1;31mTypeError\u001b[0m                                 Traceback (most recent call last)",
      "\u001b[1;32m<ipython-input-11-fc0daf7cbcf3>\u001b[0m in \u001b[0;36m<module>\u001b[1;34m()\u001b[0m\n\u001b[0;32m      2\u001b[0m \u001b[0mvar\u001b[0m \u001b[1;33m=\u001b[0m \u001b[1;34m\"python\"\u001b[0m\u001b[1;33m\u001b[0m\u001b[0m\n\u001b[0;32m      3\u001b[0m \u001b[1;32mprint\u001b[0m \u001b[0mvar\u001b[0m\u001b[1;33m[\u001b[0m\u001b[1;36m2\u001b[0m\u001b[1;33m]\u001b[0m\u001b[1;33m\u001b[0m\u001b[0m\n\u001b[1;32m----> 4\u001b[1;33m \u001b[0mvar\u001b[0m\u001b[1;33m[\u001b[0m\u001b[1;36m2\u001b[0m\u001b[1;33m]\u001b[0m \u001b[1;33m=\u001b[0m\u001b[1;34m\"e\"\u001b[0m\u001b[1;33m\u001b[0m\u001b[0m\n\u001b[0m\u001b[0;32m      5\u001b[0m \u001b[1;32mprint\u001b[0m \u001b[0mvar\u001b[0m\u001b[1;33m\u001b[0m\u001b[0m\n",
      "\u001b[1;31mTypeError\u001b[0m: 'str' object does not support item assignment"
     ]
    }
   ],
   "source": [
    "# modify the existing character from str ----->>>  mutable datatype we can't modify the existing data\n",
    "var = \"python\"\n",
    "print var[2]\n",
    "var[2] =\"e\"\n",
    "print var"
   ]
  },
  {
   "cell_type": "code",
   "execution_count": 12,
   "metadata": {},
   "outputs": [
    {
     "name": "stdout",
     "output_type": "stream",
     "text": [
      "6\n",
      "y\n",
      "h\n"
     ]
    }
   ],
   "source": [
    "var =\"python\"\n",
    "print len(var)\n",
    "print max(var)\n",
    "print min(var)"
   ]
  },
  {
   "cell_type": "code",
   "execution_count": 1,
   "metadata": {},
   "outputs": [
    {
     "name": "stdout",
     "output_type": "stream",
     "text": [
      "['__add__', '__class__', '__contains__', '__delattr__', '__doc__', '__eq__', '__format__', '__ge__', '__getattribute__', '__getitem__', '__getnewargs__', '__getslice__', '__gt__', '__hash__', '__init__', '__le__', '__len__', '__lt__', '__mod__', '__mul__', '__ne__', '__new__', '__reduce__', '__reduce_ex__', '__repr__', '__rmod__', '__rmul__', '__setattr__', '__sizeof__', '__str__', '__subclasshook__', '_formatter_field_name_split', '_formatter_parser', 'capitalize', 'center', 'count', 'decode', 'encode', 'endswith', 'expandtabs', 'find', 'format', 'index', 'isalnum', 'isalpha', 'isdigit', 'islower', 'isspace', 'istitle', 'isupper', 'join', 'ljust', 'lower', 'lstrip', 'partition', 'replace', 'rfind', 'rindex', 'rjust', 'rpartition', 'rsplit', 'rstrip', 'split', 'splitlines', 'startswith', 'strip', 'swapcase', 'title', 'translate', 'upper', 'zfill']\n"
     ]
    }
   ],
   "source": [
    "# str --->> class\n",
    "'''\n",
    "==>> methods --->> can do task\n",
    "1.special method\n",
    "===>>> without calling some of the methods are executed\n",
    "\n",
    "2.Manipulation method\n",
    "==>>> If and only of we call the methods  then only some methods are executes\n",
    "'''\n",
    "print dir(str)"
   ]
  },
  {
   "cell_type": "code",
   "execution_count": 3,
   "metadata": {},
   "outputs": [
    {
     "name": "stdout",
     "output_type": "stream",
     "text": [
      "python program\n",
      "python program\n",
      "Help on wrapper_descriptor:\n",
      "\n",
      "__add__(...)\n",
      "    x.__add__(y) <==> x+y\n",
      "\n",
      "None\n"
     ]
    }
   ],
   "source": [
    "a =\"python \"\n",
    "b = \"program\"\n",
    "print a + b\n",
    "print a.__add__(b)\n",
    "print help(str.__add__)"
   ]
  },
  {
   "cell_type": "code",
   "execution_count": 5,
   "metadata": {},
   "outputs": [
    {
     "name": "stdout",
     "output_type": "stream",
     "text": [
      "True\n",
      "True\n",
      "Help on wrapper_descriptor:\n",
      "\n",
      "__contains__(...)\n",
      "    x.__contains__(y) <==> y in x\n",
      "\n"
     ]
    }
   ],
   "source": [
    "a =\"gram\"\n",
    "b = \"program\"\n",
    "print b.__contains__(a)\n",
    "print a in b\n",
    "help(str.__contains__)"
   ]
  },
  {
   "cell_type": "code",
   "execution_count": 6,
   "metadata": {},
   "outputs": [
    {
     "name": "stdout",
     "output_type": "stream",
     "text": [
      "socsocsocsoc\n",
      "socsocsocsoc\n",
      "Help on wrapper_descriptor:\n",
      "\n",
      "__mul__(...)\n",
      "    x.__mul__(n) <==> x*n\n",
      "\n"
     ]
    }
   ],
   "source": [
    "a = \"soc\"\n",
    "print a * 4\n",
    "print a.__mul__(4)\n",
    "help(str.__mul__)"
   ]
  },
  {
   "cell_type": "code",
   "execution_count": 7,
   "metadata": {},
   "outputs": [
    {
     "name": "stdout",
     "output_type": "stream",
     "text": [
      "t\n",
      "t\n",
      "Help on wrapper_descriptor:\n",
      "\n",
      "__getitem__(...)\n",
      "    x.__getitem__(y) <==> x[y]\n",
      "\n"
     ]
    }
   ],
   "source": [
    "a = \"python\"\n",
    "print a.__getitem__(2)\n",
    "print a[2]\n",
    "help(str.__getitem__)"
   ]
  },
  {
   "cell_type": "code",
   "execution_count": 8,
   "metadata": {},
   "outputs": [
    {
     "name": "stdout",
     "output_type": "stream",
     "text": [
      "tho\n",
      "tho\n",
      "Help on wrapper_descriptor:\n",
      "\n",
      "__getslice__(...)\n",
      "    x.__getslice__(i, j) <==> x[i:j]\n",
      "    \n",
      "    Use of negative indices is not supported.\n",
      "\n"
     ]
    }
   ],
   "source": [
    "a = \"python\"\n",
    "print a.__getslice__(2,5)\n",
    "print a[2:5]\n",
    "help(str.__getslice__)"
   ]
  },
  {
   "cell_type": "code",
   "execution_count": 9,
   "metadata": {},
   "outputs": [
    {
     "name": "stdout",
     "output_type": "stream",
     "text": [
      "Asddffkf kjkfkld jflsk\n"
     ]
    }
   ],
   "source": [
    "a = \"asddFFkf kjkfKLD JFLSK\"\n",
    "print a.capitalize()"
   ]
  },
  {
   "cell_type": "code",
   "execution_count": 10,
   "metadata": {},
   "outputs": [
    {
     "name": "stdout",
     "output_type": "stream",
     "text": [
      "Asddffkf Kjkfkld Jflsk\n"
     ]
    }
   ],
   "source": [
    "a = \"asddFFkf kjkfKLD JFLSK\"\n",
    "print a.title()"
   ]
  },
  {
   "cell_type": "code",
   "execution_count": 11,
   "metadata": {},
   "outputs": [
    {
     "name": "stdout",
     "output_type": "stream",
     "text": [
      "asddffkf kjkfkld jflsk\n"
     ]
    }
   ],
   "source": [
    "a = \"asddFFkf kjkfKLD JFLSK\"\n",
    "print a.lower()"
   ]
  },
  {
   "cell_type": "code",
   "execution_count": 12,
   "metadata": {},
   "outputs": [
    {
     "name": "stdout",
     "output_type": "stream",
     "text": [
      "ASDDFFKF KJKFKLD JFLSK\n"
     ]
    }
   ],
   "source": [
    "a = \"asddFFkf kjkfKLD JFLSK\"\n",
    "print a.upper()"
   ]
  },
  {
   "cell_type": "code",
   "execution_count": 13,
   "metadata": {},
   "outputs": [
    {
     "name": "stdout",
     "output_type": "stream",
     "text": [
      "ASDDffKF KJKFkld jflsk\n"
     ]
    }
   ],
   "source": [
    "a = \"asddFFkf kjkfKLD JFLSK\"\n",
    "print a.swapcase()"
   ]
  },
  {
   "cell_type": "code",
   "execution_count": 16,
   "metadata": {},
   "outputs": [
    {
     "name": "stdout",
     "output_type": "stream",
     "text": [
      "asddffkf kjkfKLD JfLSK\n"
     ]
    }
   ],
   "source": [
    "a = \"asddFFkf kjkfKLD JFLSK\"\n",
    "print a.replace('F','f')"
   ]
  },
  {
   "cell_type": "code",
   "execution_count": 17,
   "metadata": {},
   "outputs": [
    {
     "name": "stdout",
     "output_type": "stream",
     "text": [
      "['asddFFkf', 'kjkfKLD', 'JFLSK']\n"
     ]
    }
   ],
   "source": [
    "a = \"asddFFkf kjkfKLD JFLSK\"\n",
    "print a.split()"
   ]
  },
  {
   "cell_type": "code",
   "execution_count": 18,
   "metadata": {},
   "outputs": [
    {
     "name": "stdout",
     "output_type": "stream",
     "text": [
      "asddFFkf kjkfKLD JFLSK\n"
     ]
    }
   ],
   "source": [
    "a  = ['asddFFkf', 'kjkfKLD', 'JFLSK']\n",
    "print ' '.join(a)"
   ]
  },
  {
   "cell_type": "code",
   "execution_count": 19,
   "metadata": {},
   "outputs": [
    {
     "name": "stdout",
     "output_type": "stream",
     "text": [
      "33python33\n"
     ]
    }
   ],
   "source": [
    "a= \"python\"\n",
    "print a.center(10,'3')"
   ]
  },
  {
   "cell_type": "code",
   "execution_count": 20,
   "metadata": {},
   "outputs": [
    {
     "name": "stdout",
     "output_type": "stream",
     "text": [
      "0000python\n"
     ]
    }
   ],
   "source": [
    "a= \"python\"\n",
    "print a.zfill(10)"
   ]
  },
  {
   "cell_type": "code",
   "execution_count": 21,
   "metadata": {},
   "outputs": [
    {
     "name": "stdout",
     "output_type": "stream",
     "text": [
      "2\n"
     ]
    }
   ],
   "source": [
    "a = \"python\"\n",
    "print a.index('t')"
   ]
  },
  {
   "cell_type": "code",
   "execution_count": 22,
   "metadata": {},
   "outputs": [
    {
     "name": "stdout",
     "output_type": "stream",
     "text": [
      "2\n"
     ]
    }
   ],
   "source": [
    "a= \"python program\"\n",
    "print a.count('p')"
   ]
  },
  {
   "cell_type": "code",
   "execution_count": 23,
   "metadata": {},
   "outputs": [
    {
     "name": "stdout",
     "output_type": "stream",
     "text": [
      "True\n"
     ]
    }
   ],
   "source": [
    "a = \"1234\"\n",
    "print a.isdigit()"
   ]
  },
  {
   "cell_type": "code",
   "execution_count": 24,
   "metadata": {},
   "outputs": [
    {
     "name": "stdout",
     "output_type": "stream",
     "text": [
      "True\n"
     ]
    }
   ],
   "source": [
    "a = \"qweKJKHKJG\"\n",
    "print a.isalpha()"
   ]
  },
  {
   "cell_type": "code",
   "execution_count": 25,
   "metadata": {},
   "outputs": [
    {
     "name": "stdout",
     "output_type": "stream",
     "text": [
      "True\n"
     ]
    }
   ],
   "source": [
    "a = \"1234JHHHakdnssa\"\n",
    "print a.isalnum()"
   ]
  },
  {
   "cell_type": "code",
   "execution_count": 26,
   "metadata": {},
   "outputs": [
    {
     "name": "stdout",
     "output_type": "stream",
     "text": [
      "True\n"
     ]
    }
   ],
   "source": [
    "a = \"djfjfkjd\"\n",
    "print a.islower()"
   ]
  },
  {
   "cell_type": "code",
   "execution_count": 28,
   "metadata": {},
   "outputs": [
    {
     "name": "stdout",
     "output_type": "stream",
     "text": [
      "True\n"
     ]
    }
   ],
   "source": [
    "a = \"AJKASJAKDNKSDHJ\"\n",
    "print a.isupper()"
   ]
  },
  {
   "cell_type": "code",
   "execution_count": 29,
   "metadata": {},
   "outputs": [
    {
     "name": "stdout",
     "output_type": "stream",
     "text": [
      "True\n"
     ]
    }
   ],
   "source": [
    "a = \"Tjdfkjd Gafdjfdjk Rkjjfb\"\n",
    "print a.istitle()"
   ]
  },
  {
   "cell_type": "code",
   "execution_count": null,
   "metadata": {},
   "outputs": [],
   "source": []
  }
 ],
 "metadata": {
  "kernelspec": {
   "display_name": "Python 2",
   "language": "python",
   "name": "python2"
  },
  "language_info": {
   "codemirror_mode": {
    "name": "ipython",
    "version": 2
   },
   "file_extension": ".py",
   "mimetype": "text/x-python",
   "name": "python",
   "nbconvert_exporter": "python",
   "pygments_lexer": "ipython2",
   "version": "2.7.16"
  }
 },
 "nbformat": 4,
 "nbformat_minor": 2
}
