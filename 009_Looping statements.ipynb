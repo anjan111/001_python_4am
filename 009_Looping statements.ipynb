{
 "cells": [
  {
   "cell_type": "code",
   "execution_count": 1,
   "metadata": {},
   "outputs": [
    {
     "name": "stdout",
     "output_type": "stream",
     "text": [
      "1\n",
      "2\n",
      "3\n",
      "4\n",
      "5\n",
      "6\n",
      "7\n",
      "8\n",
      "9\n",
      "10\n",
      "i is more than N\n"
     ]
    }
   ],
   "source": [
    "# Looping statements\n",
    "'''\n",
    "===>> Task ---> repeat some specific number times \n",
    "1. while \n",
    "2. for\n",
    "'''\n",
    "# while loop\n",
    "'''\n",
    "while( condition ):\n",
    "    Task\n",
    "    ----\n",
    "    ----\n",
    "else:\n",
    "    Task\n",
    "    ----\n",
    "    ----\n",
    "'''\n",
    "# wap print 1 to 10\n",
    "i = 1\n",
    "N =10\n",
    "while( i <= N):\n",
    "    print i\n",
    "    i = i + 1\n",
    "else:\n",
    "    print \"i is more than N\""
   ]
  },
  {
   "cell_type": "code",
   "execution_count": 2,
   "metadata": {},
   "outputs": [
    {
     "name": "stdout",
     "output_type": "stream",
     "text": [
      "anjan\n",
      "anjan\n",
      "anjan\n",
      "anjan\n",
      "anjan\n",
      "anjan\n",
      "anjan\n",
      "anjan\n",
      "anjan\n",
      "anjan\n"
     ]
    }
   ],
   "source": [
    "# wap print your name 10 times\n",
    "i = 1\n",
    "N = 10\n",
    "while(i<= N):\n",
    "    print \"anjan\"\n",
    "    i = i +1"
   ]
  },
  {
   "cell_type": "code",
   "execution_count": 4,
   "metadata": {},
   "outputs": [
    {
     "name": "stdout",
     "output_type": "stream",
     "text": [
      "enter N : 19\n",
      "19  *  1  =  19\n",
      "19  *  2  =  38\n",
      "19  *  3  =  57\n",
      "19  *  4  =  76\n",
      "19  *  5  =  95\n",
      "19  *  6  =  114\n",
      "19  *  7  =  133\n",
      "19  *  8  =  152\n",
      "19  *  9  =  171\n",
      "19  *  10  =  190\n",
      "Task over\n"
     ]
    }
   ],
   "source": [
    "# wap print the multiplicaion table\n",
    "N = input(\"enter N : \")\n",
    "i = 1\n",
    "while( i <= 10):\n",
    "    print N,\" * \",i,\" = \",N*i\n",
    "    i = i + 1\n",
    "else:\n",
    "    print\"Task over\""
   ]
  },
  {
   "cell_type": "code",
   "execution_count": 8,
   "metadata": {},
   "outputs": [
    {
     "name": "stdout",
     "output_type": "stream",
     "text": [
      "enter N : 78.55\n",
      "factorial is not possibe for non int\n"
     ]
    }
   ],
   "source": [
    "# wap find factorial of number\n",
    "\n",
    "N = input(\"enter N : \")\n",
    "if(isinstance(N,int)):\n",
    "    if(N >= 0):\n",
    "        if(N == 0 or N == 1):\n",
    "            print N,\"! = 1\"\n",
    "        else:\n",
    "            fact = 1\n",
    "            i = 2\n",
    "            while(i <= N):\n",
    "                fact = fact * i\n",
    "                i = i +1\n",
    "            else:\n",
    "                print N,\"! = \",fact\n",
    "    else:\n",
    "        print \"factorail is not possible for negative\"\n",
    "else:\n",
    "    print \"factorial is not possibe for non int\""
   ]
  },
  {
   "cell_type": "code",
   "execution_count": null,
   "metadata": {},
   "outputs": [],
   "source": [
    "# wap find the sum of 1 st 100 natural nubers    1+2+-----100\n",
    "# wap find the no of factor of a number and print the factors \n",
    "'''\n",
    "10\n",
    "\n",
    "1\n",
    "2\n",
    "5\n",
    "10 =====>>>>4\n",
    "'''"
   ]
  },
  {
   "cell_type": "code",
   "execution_count": 1,
   "metadata": {},
   "outputs": [
    {
     "name": "stdout",
     "output_type": "stream",
     "text": [
      "Help on built-in function range in module __builtin__:\n",
      "\n",
      "range(...)\n",
      "    range(stop) -> list of integers\n",
      "    range(start, stop[, step]) -> list of integers\n",
      "    \n",
      "    Return a list containing an arithmetic progression of integers.\n",
      "    range(i, j) returns [i, i+1, i+2, ..., j-1]; start (!) defaults to 0.\n",
      "    When step is given, it specifies the increment (or decrement).\n",
      "    For example, range(4) returns [0, 1, 2, 3].  The end point is omitted!\n",
      "    These are exactly the valid indices for a list of 4 elements.\n",
      "\n"
     ]
    }
   ],
   "source": [
    "help(range)"
   ]
  },
  {
   "cell_type": "code",
   "execution_count": 2,
   "metadata": {},
   "outputs": [
    {
     "data": {
      "text/plain": [
       "[0, 1, 2, 3, 4, 5, 6, 7, 8, 9]"
      ]
     },
     "execution_count": 2,
     "metadata": {},
     "output_type": "execute_result"
    }
   ],
   "source": [
    "range(10)# [0,1,2,3,4,5,6,7,8,9]"
   ]
  },
  {
   "cell_type": "code",
   "execution_count": 4,
   "metadata": {},
   "outputs": [
    {
     "name": "stdout",
     "output_type": "stream",
     "text": [
      "[10, 11, 12, 13, 14, 15, 16, 17, 18, 19, 20, 21, 22, 23, 24, 25, 26, 27, 28, 29, 30, 31, 32, 33, 34]\n"
     ]
    }
   ],
   "source": [
    "print range(10,35) # 35 - 10 --->> 25 #"
   ]
  },
  {
   "cell_type": "code",
   "execution_count": 5,
   "metadata": {},
   "outputs": [
    {
     "name": "stdout",
     "output_type": "stream",
     "text": [
      "[23, 27, 31, 35, 39, 43, 47, 51, 55]\n"
     ]
    }
   ],
   "source": [
    "print range(23 , 57 ,4 )# 23,27,31,35,39,43,47,51,55"
   ]
  },
  {
   "cell_type": "code",
   "execution_count": 6,
   "metadata": {},
   "outputs": [
    {
     "name": "stdout",
     "output_type": "stream",
     "text": [
      "python\n",
      "python\n",
      "python\n",
      "python\n",
      "c\n"
     ]
    }
   ],
   "source": [
    "##### for loop\n",
    "for   var   in [13,89,45,23]:\n",
    "    print \"python\"\n",
    "else:\n",
    "    print \"c\""
   ]
  },
  {
   "cell_type": "code",
   "execution_count": 7,
   "metadata": {},
   "outputs": [
    {
     "name": "stdout",
     "output_type": "stream",
     "text": [
      "10\n",
      "34\n",
      "23\n",
      "90\n",
      "45\n",
      "no elements\n"
     ]
    }
   ],
   "source": [
    "for ele in (10,34,23,90,45):\n",
    "    print ele\n",
    "else:\n",
    "    print \"no elements\""
   ]
  },
  {
   "cell_type": "code",
   "execution_count": 8,
   "metadata": {},
   "outputs": [
    {
     "name": "stdout",
     "output_type": "stream",
     "text": [
      "enter num : 100\n",
      "sum :  5050\n"
     ]
    }
   ],
   "source": [
    "# wap find the sum of 1st natural number \n",
    "# 100 ---> 1+2+3+-----100 ===>> 5050\n",
    "num = input(\"enter num : \")\n",
    "sum = 0\n",
    "for ele in range(1,num+1):\n",
    "    sum = sum + ele\n",
    "else:\n",
    "    print \"sum : \",sum"
   ]
  },
  {
   "cell_type": "code",
   "execution_count": 9,
   "metadata": {},
   "outputs": [
    {
     "name": "stdout",
     "output_type": "stream",
     "text": [
      "enter num : 5\n",
      "fact :  120\n"
     ]
    }
   ],
   "source": [
    "# wap find the factorial of number\n",
    "num = input(\"enter num : \")\n",
    "fact = 1\n",
    "for ele in range(1,num+1):\n",
    "    fact =  fact*ele\n",
    "else:\n",
    "    print \"fact : \",fact"
   ]
  },
  {
   "cell_type": "code",
   "execution_count": 10,
   "metadata": {},
   "outputs": [
    {
     "name": "stdout",
     "output_type": "stream",
     "text": [
      "enter : 10\n",
      "1\n",
      "2\n",
      "5\n",
      "10\n",
      "sum :  18\n"
     ]
    }
   ],
   "source": [
    "#wap find sum of  factor of a number\n",
    "# 10  ---> 1 ,   2  ,   5   , 10\n",
    "num = input(\"enter : \")\n",
    "sum = 0\n",
    "for ele in range(1,num+1):\n",
    "    if(num % ele == 0):\n",
    "        print ele\n",
    "        sum = sum + ele\n",
    "else:\n",
    "    print \"sum : \", sum"
   ]
  },
  {
   "cell_type": "code",
   "execution_count": 3,
   "metadata": {},
   "outputs": [],
   "source": [
    "#control keywords\n",
    "'''\n",
    "==>> with help control statements we can change the flow of the execution of the program\n",
    "==>> with help of control keywords we can change the flow of the execution of the control keywords.\n",
    "'''\n",
    "# pass\n",
    "'''\n",
    "==> to create a dummy blocks\n",
    "'''\n",
    "if  True :\n",
    "    pass\n",
    "elif True:\n",
    "    pass\n",
    "else:\n",
    "    pass\n",
    "while False:\n",
    "    pass\n",
    "for ele in range(100):\n",
    "    pass"
   ]
  },
  {
   "cell_type": "code",
   "execution_count": 5,
   "metadata": {},
   "outputs": [
    {
     "name": "stdout",
     "output_type": "stream",
     "text": [
      "hello\n",
      "hello\n",
      "hello\n",
      "hello\n",
      "hello\n",
      "hello\n",
      "hello\n",
      "hello\n",
      "hello\n",
      "hello\n"
     ]
    }
   ],
   "source": [
    "# wap print hello  10 times with delay\n",
    "for i in range(10):\n",
    "    print \"hello\"\n",
    "    for ele in range(10000000):\n",
    "        pass"
   ]
  },
  {
   "cell_type": "code",
   "execution_count": 6,
   "metadata": {},
   "outputs": [
    {
     "name": "stdout",
     "output_type": "stream",
     "text": [
      "1\n",
      "2\n",
      "3\n",
      "5\n",
      "6\n",
      "8\n",
      "9\n",
      "10\n"
     ]
    }
   ],
   "source": [
    "# continue\n",
    "'''\n",
    "==> skip the current iteration of execution of rest of the statements after the continue keyword\n",
    "and continue the next iteration\n",
    "'''\n",
    "# print 1 to 10 except  4 and  7\n",
    "for ele in range(1,11):\n",
    "    if(ele == 4 or ele == 7):\n",
    "        continue\n",
    "    print ele"
   ]
  },
  {
   "cell_type": "code",
   "execution_count": 7,
   "metadata": {},
   "outputs": [
    {
     "name": "stdout",
     "output_type": "stream",
     "text": [
      "ele :  0\n",
      "ele :  1\n",
      "ele :  2\n",
      "ele :  3\n",
      "ele :  4\n",
      "ele :  5\n",
      "ele :  6\n",
      "ele :  7\n",
      "ele :  8\n",
      "ele :  9\n",
      "else is executed when loop is succussfully complemented\n"
     ]
    }
   ],
   "source": [
    "# break \n",
    "'''\n",
    "==> to terminate the loop\n",
    "==>> if the loop is terminated then else can't be execute\n",
    "'''\n",
    "for ele in range(10):\n",
    "    if(ele == 100):\n",
    "        break\n",
    "    print \"ele : \",ele\n",
    "else:\n",
    "    print \"else is executed when loop is succussfully complemented\"\n"
   ]
  },
  {
   "cell_type": "code",
   "execution_count": 8,
   "metadata": {},
   "outputs": [
    {
     "name": "stdout",
     "output_type": "stream",
     "text": [
      "ele :  0\n",
      "ele :  1\n",
      "ele :  2\n",
      "ele :  3\n",
      "ele :  4\n",
      "ele :  5\n"
     ]
    }
   ],
   "source": [
    "# break \n",
    "'''\n",
    "==> to terminate the loop\n",
    "==>> if the loop is terminated then else can't be execute\n",
    "'''\n",
    "for ele in range(10):\n",
    "    if(ele == 6):\n",
    "        break\n",
    "    print \"ele : \",ele\n",
    "else:\n",
    "    print \"else is executed when loop is succussfully complemented\"\n"
   ]
  },
  {
   "cell_type": "code",
   "execution_count": 11,
   "metadata": {},
   "outputs": [
    {
     "name": "stdout",
     "output_type": "stream",
     "text": [
      "prime :  11\n",
      "prime :  13\n",
      "prime :  17\n",
      "prime :  19\n",
      "prime :  23\n",
      "prime :  29\n",
      "sum of primes :  112\n"
     ]
    }
   ],
   "source": [
    "# wap find the prime numbers in between 10 to 30 with help of break\n",
    "sum = 0\n",
    "for num in range(10,31):\n",
    "    for ele in range(2,num):\n",
    "        if(num % ele == 0):\n",
    "            break\n",
    "    else:\n",
    "        print \"prime : \",num\n",
    "        sum = sum + num\n",
    "else:\n",
    "    print \"sum of primes : \",sum"
   ]
  },
  {
   "cell_type": "code",
   "execution_count": null,
   "metadata": {},
   "outputs": [],
   "source": []
  }
 ],
 "metadata": {
  "kernelspec": {
   "display_name": "Python 2",
   "language": "python",
   "name": "python2"
  },
  "language_info": {
   "codemirror_mode": {
    "name": "ipython",
    "version": 2
   },
   "file_extension": ".py",
   "mimetype": "text/x-python",
   "name": "python",
   "nbconvert_exporter": "python",
   "pygments_lexer": "ipython2",
   "version": "2.7.16"
  }
 },
 "nbformat": 4,
 "nbformat_minor": 2
}
