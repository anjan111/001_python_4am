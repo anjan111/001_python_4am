{
 "cells": [
  {
   "cell_type": "code",
   "execution_count": 1,
   "metadata": {},
   "outputs": [
    {
     "name": "stdout",
     "output_type": "stream",
     "text": [
      "[]\n",
      "<type 'list'>\n",
      "0\n"
     ]
    }
   ],
   "source": [
    "# list datatype\n",
    "'''\n",
    "Collection of elements with in []\n",
    "'''\n",
    "var = []\n",
    "print var\n",
    "print type(var)\n",
    "print len(var)"
   ]
  },
  {
   "cell_type": "code",
   "execution_count": 2,
   "metadata": {},
   "outputs": [
    {
     "name": "stdout",
     "output_type": "stream",
     "text": [
      "[12, 1.233, (12+4j), True, None, 'soc', [1, 2, 3], (1, 2, 3), set([1, 2]), {12: 45}]\n",
      "<type 'list'>\n",
      "10\n"
     ]
    }
   ],
   "source": [
    "# hetrogenious datatype\n",
    "var = [12 , 1.233 , 12+4j , True, None,\"soc\",[1,2,3],(1,2,3),{1,2},{12:45}]\n",
    "print var\n",
    "print type(var)\n",
    "print len(var)"
   ]
  },
  {
   "cell_type": "code",
   "execution_count": 4,
   "metadata": {},
   "outputs": [
    {
     "name": "stdout",
     "output_type": "stream",
     "text": [
      "positive indexing\n",
      "12\n",
      "1.233\n",
      "(12+4j)\n",
      "True\n",
      "{12: 45}\n",
      "Negative indexing\n",
      "{12: 45}\n",
      "set([1, 2])\n",
      "(1, 2, 3)\n",
      "[1, 2, 3]\n",
      "12\n"
     ]
    }
   ],
   "source": [
    "# list indexing \n",
    "var = [12 , 1.233 , 12+4j , True, None,\"soc\",[1,2,3],(1,2,3),{1,2},{12:45}]\n",
    "print \"positive indexing\"\n",
    "print var[0]\n",
    "print var[1]\n",
    "print var[2]\n",
    "print var[3]\n",
    "print var[9]\n",
    "print \"Negative indexing\"\n",
    "print var[-1]\n",
    "print var[-2]\n",
    "print var[-3]\n",
    "print var[-4]\n",
    "print var[-10]"
   ]
  },
  {
   "cell_type": "code",
   "execution_count": 5,
   "metadata": {},
   "outputs": [
    {
     "name": "stdout",
     "output_type": "stream",
     "text": [
      "[12, 1.233, (12+4j), True, None]\n",
      "[True, None, 'soc', [1, 2, 3], (1, 2, 3), set([1, 2]), {12: 45}]\n",
      "[True, None, 'soc', [1, 2, 3], (1, 2, 3)]\n"
     ]
    }
   ],
   "source": [
    "# list slicing   var[start :  stop]\n",
    "var = [12 , 1.233 , 12+4j , True, None,\"soc\",[1,2,3],(1,2,3),{1,2},{12:45}]\n",
    "print var[:5]# 0,1,2,3,4 ### start --> 0\n",
    "print var[3:]#3,4,5,6,7,8,9 #stop -->> len of list\n",
    "print var[3:8]#3,4,5,6,7"
   ]
  },
  {
   "cell_type": "code",
   "execution_count": 7,
   "metadata": {},
   "outputs": [
    {
     "name": "stdout",
     "output_type": "stream",
     "text": [
      "[12, True, [1, 2, 3]]\n",
      "[(12+4j), 'soc', set([1, 2])]\n",
      "[True, 'soc', (1, 2, 3), {12: 45}]\n",
      "[True, None, 'soc', [1, 2, 3]]\n"
     ]
    }
   ],
   "source": [
    "# list dicing   var[start :  stop : step]\n",
    "var = [12 , 1.233 , 12+4j , True, None,\"soc\",[1,2,3],(1,2,3),{1,2},{12:45}]\n",
    "print var [:9:3]# 0,3,6 # start ---> 0\n",
    "print var[2:9:3]#2,5,8  \n",
    "print var[3::2]# 3,5,7,9\n",
    "print var[3:7:]#3,4,5,6,7"
   ]
  },
  {
   "cell_type": "code",
   "execution_count": 9,
   "metadata": {},
   "outputs": [
    {
     "name": "stdout",
     "output_type": "stream",
     "text": [
      "[12, 3, 4]\n",
      "12\n",
      "[7, 2, 3, 56]\n",
      "2\n",
      "[7, 3]\n"
     ]
    }
   ],
   "source": [
    "# Nested indexing \n",
    "var = [[12,3,4],45,[7,2,3,56]]\n",
    "print var[0]\n",
    "print var[0][0]\n",
    "print var[2]\n",
    "print var[2][1]\n",
    "print var[2][0:3:2]"
   ]
  },
  {
   "cell_type": "code",
   "execution_count": 10,
   "metadata": {},
   "outputs": [
    {
     "name": "stdout",
     "output_type": "stream",
     "text": [
      "[1, 2, 3, 5, 9]\n",
      "[1, 2, 100, 5, 9]\n"
     ]
    }
   ],
   "source": [
    "# list is mutable daatatype\n",
    "var = [1,2,3,5,9]\n",
    "print var\n",
    "var[2] = 100\n",
    "print var"
   ]
  },
  {
   "cell_type": "code",
   "execution_count": 11,
   "metadata": {},
   "outputs": [
    {
     "name": "stdout",
     "output_type": "stream",
     "text": [
      "5\n",
      "121\n",
      "90\n",
      "1\n"
     ]
    }
   ],
   "source": [
    "var = [1,3,4,90,23]\n",
    "print len(var)\n",
    "print sum(var)\n",
    "print max(var)\n",
    "print min(var)"
   ]
  },
  {
   "cell_type": "code",
   "execution_count": 1,
   "metadata": {},
   "outputs": [
    {
     "name": "stdout",
     "output_type": "stream",
     "text": [
      "['__add__', '__class__', '__contains__', '__delattr__', '__delitem__', '__delslice__', '__doc__', '__eq__', '__format__', '__ge__', '__getattribute__', '__getitem__', '__getslice__', '__gt__', '__hash__', '__iadd__', '__imul__', '__init__', '__iter__', '__le__', '__len__', '__lt__', '__mul__', '__ne__', '__new__', '__reduce__', '__reduce_ex__', '__repr__', '__reversed__', '__rmul__', '__setattr__', '__setitem__', '__setslice__', '__sizeof__', '__str__', '__subclasshook__', 'append', 'count', 'extend', 'index', 'insert', 'pop', 'remove', 'reverse', 'sort']\n"
     ]
    }
   ],
   "source": [
    "# list ---> class --> methods ( special / normal)\n",
    "print dir(list)"
   ]
  },
  {
   "cell_type": "code",
   "execution_count": 2,
   "metadata": {},
   "outputs": [
    {
     "name": "stdout",
     "output_type": "stream",
     "text": [
      "[1, 2, 3, 4, 4, 4, 5, 6]\n",
      "[1, 2, 3, 4, 4, 4, 5, 6]\n",
      "Help on wrapper_descriptor:\n",
      "\n",
      "__add__(...)\n",
      "    x.__add__(y) <==> x+y\n",
      "\n"
     ]
    }
   ],
   "source": [
    "a = [1,2,3,4]\n",
    "b= [4,4,5,6]\n",
    "print a + b\n",
    "print a.__add__(b)\n",
    "help(list.__add__)"
   ]
  },
  {
   "cell_type": "code",
   "execution_count": 3,
   "metadata": {},
   "outputs": [
    {
     "name": "stdout",
     "output_type": "stream",
     "text": [
      "True\n",
      "True\n"
     ]
    }
   ],
   "source": [
    "a = [12,3,4]\n",
    "b = 12\n",
    "print b in a\n",
    "print a.__contains__(b)"
   ]
  },
  {
   "cell_type": "code",
   "execution_count": 4,
   "metadata": {},
   "outputs": [
    {
     "name": "stdout",
     "output_type": "stream",
     "text": [
      "5\n",
      "5\n"
     ]
    }
   ],
   "source": [
    "a = [1,5,6]\n",
    "print a.__getitem__(1)\n",
    "print a[1]"
   ]
  },
  {
   "cell_type": "code",
   "execution_count": 6,
   "metadata": {},
   "outputs": [
    {
     "name": "stdout",
     "output_type": "stream",
     "text": [
      "[1, 5]\n",
      "[1, 5]\n"
     ]
    }
   ],
   "source": [
    "a = [1,5,6]\n",
    "print a.__getslice__(0,2)\n",
    "print a[0:2]"
   ]
  },
  {
   "cell_type": "code",
   "execution_count": 7,
   "metadata": {},
   "outputs": [
    {
     "name": "stdout",
     "output_type": "stream",
     "text": [
      "[1, 2, 3, 1, 2, 3, 1, 2, 3, 1, 2, 3]\n",
      "[1, 2, 3, 1, 2, 3, 1, 2, 3, 1, 2, 3]\n"
     ]
    }
   ],
   "source": [
    "a = [1,2,3]\n",
    "print a * 4\n",
    "print a.__mul__(4)"
   ]
  },
  {
   "cell_type": "code",
   "execution_count": 9,
   "metadata": {},
   "outputs": [
    {
     "name": "stdout",
     "output_type": "stream",
     "text": [
      "[4, 7, 3]\n",
      "[4, 7, 3, 100]\n",
      "[4, 7, 3, 100, 200]\n",
      "[4, 7, 3, 100, 200, 'soc']\n"
     ]
    }
   ],
   "source": [
    "a = [4,7,3]\n",
    "print a\n",
    "a.append(100)\n",
    "print a\n",
    "a.append(200)\n",
    "print a\n",
    "a.append(\"soc\")\n",
    "9print a"
   ]
  },
  {
   "cell_type": "code",
   "execution_count": 11,
   "metadata": {},
   "outputs": [
    {
     "name": "stdout",
     "output_type": "stream",
     "text": [
      "3\n",
      "1\n"
     ]
    }
   ],
   "source": [
    "a = [12 ,90 ,12,89,12]\n",
    "print a.count(12)\n",
    "print a.count(89)"
   ]
  },
  {
   "cell_type": "code",
   "execution_count": 12,
   "metadata": {},
   "outputs": [
    {
     "name": "stdout",
     "output_type": "stream",
     "text": [
      "[1, 2, 3, 4]\n",
      "[5, 6, 7, 8]\n",
      "[1, 2, 3, 4, 5, 6, 7, 8]\n",
      "[5, 6, 7, 8]\n"
     ]
    }
   ],
   "source": [
    "a = [ 1,2,3,4]\n",
    "b = [5,6,7,8]\n",
    "print a\n",
    "print b\n",
    "a.extend(b)\n",
    "print a\n",
    "print b"
   ]
  },
  {
   "cell_type": "code",
   "execution_count": 14,
   "metadata": {},
   "outputs": [
    {
     "name": "stdout",
     "output_type": "stream",
     "text": [
      "2\n"
     ]
    },
    {
     "ename": "ValueError",
     "evalue": "100 is not in list",
     "output_type": "error",
     "traceback": [
      "\u001b[1;31m---------------------------------------------------------------------------\u001b[0m",
      "\u001b[1;31mValueError\u001b[0m                                Traceback (most recent call last)",
      "\u001b[1;32m<ipython-input-14-882cce742fdd>\u001b[0m in \u001b[0;36m<module>\u001b[1;34m()\u001b[0m\n\u001b[0;32m      1\u001b[0m \u001b[0ma\u001b[0m \u001b[1;33m=\u001b[0m \u001b[1;33m[\u001b[0m\u001b[1;36m56\u001b[0m\u001b[1;33m,\u001b[0m\u001b[1;36m90\u001b[0m\u001b[1;33m,\u001b[0m\u001b[1;36m23\u001b[0m\u001b[1;33m,\u001b[0m\u001b[1;36m45\u001b[0m\u001b[1;33m]\u001b[0m\u001b[1;33m\u001b[0m\u001b[0m\n\u001b[0;32m      2\u001b[0m \u001b[1;32mprint\u001b[0m \u001b[0ma\u001b[0m\u001b[1;33m.\u001b[0m\u001b[0mindex\u001b[0m\u001b[1;33m(\u001b[0m\u001b[1;36m23\u001b[0m\u001b[1;33m)\u001b[0m\u001b[1;33m\u001b[0m\u001b[0m\n\u001b[1;32m----> 3\u001b[1;33m \u001b[1;32mprint\u001b[0m \u001b[0ma\u001b[0m\u001b[1;33m.\u001b[0m\u001b[0mindex\u001b[0m\u001b[1;33m(\u001b[0m\u001b[1;36m100\u001b[0m\u001b[1;33m)\u001b[0m\u001b[1;33m\u001b[0m\u001b[0m\n\u001b[0m",
      "\u001b[1;31mValueError\u001b[0m: 100 is not in list"
     ]
    }
   ],
   "source": [
    "a = [56,90,23,45]\n",
    "print a.index(23)\n",
    "print a.index(100)"
   ]
  },
  {
   "cell_type": "code",
   "execution_count": 15,
   "metadata": {},
   "outputs": [
    {
     "name": "stdout",
     "output_type": "stream",
     "text": [
      "[12, 89, 34, 100]\n",
      "[12, 89, 25, 34, 100]\n"
     ]
    }
   ],
   "source": [
    "a= [12,89,34,100]\n",
    "print a\n",
    "a.insert(2,25)\n",
    "print a"
   ]
  },
  {
   "cell_type": "code",
   "execution_count": 16,
   "metadata": {},
   "outputs": [
    {
     "name": "stdout",
     "output_type": "stream",
     "text": [
      "[12, 89, 34, 100, 12, 89, 22, 19]\n",
      "19\n",
      "[12, 89, 34, 100, 12, 89, 22]\n",
      "22\n",
      "[12, 89, 34, 100, 12, 89]\n",
      "100\n",
      "[12, 89, 34, 12, 89]\n"
     ]
    }
   ],
   "source": [
    "a = [12,89,34,100,12,89,22,19]\n",
    "print a\n",
    "print a.pop()\n",
    "print a\n",
    "print a.pop()\n",
    "print a\n",
    "print a.pop(3)\n",
    "print a"
   ]
  },
  {
   "cell_type": "code",
   "execution_count": 18,
   "metadata": {},
   "outputs": [
    {
     "name": "stdout",
     "output_type": "stream",
     "text": [
      "[12, 89, 34, 100, 12, 89, 22, 19]\n",
      "[12, 89, 34, 12, 89, 22, 19]\n",
      "[89, 34, 12, 89, 22, 19]\n"
     ]
    },
    {
     "ename": "TypeError",
     "evalue": "remove() takes exactly one argument (0 given)",
     "output_type": "error",
     "traceback": [
      "\u001b[1;31m---------------------------------------------------------------------------\u001b[0m",
      "\u001b[1;31mTypeError\u001b[0m                                 Traceback (most recent call last)",
      "\u001b[1;32m<ipython-input-18-91ae46119d03>\u001b[0m in \u001b[0;36m<module>\u001b[1;34m()\u001b[0m\n\u001b[0;32m      5\u001b[0m \u001b[0ma\u001b[0m\u001b[1;33m.\u001b[0m\u001b[0mremove\u001b[0m\u001b[1;33m(\u001b[0m\u001b[1;36m12\u001b[0m\u001b[1;33m)\u001b[0m\u001b[1;33m\u001b[0m\u001b[0m\n\u001b[0;32m      6\u001b[0m \u001b[1;32mprint\u001b[0m \u001b[0ma\u001b[0m\u001b[1;33m\u001b[0m\u001b[0m\n\u001b[1;32m----> 7\u001b[1;33m \u001b[0ma\u001b[0m\u001b[1;33m.\u001b[0m\u001b[0mremove\u001b[0m\u001b[1;33m(\u001b[0m\u001b[1;33m)\u001b[0m\u001b[1;33m\u001b[0m\u001b[0m\n\u001b[0m",
      "\u001b[1;31mTypeError\u001b[0m: remove() takes exactly one argument (0 given)"
     ]
    }
   ],
   "source": [
    "a = [12,89,34,100,12,89,22,19]\n",
    "print a\n",
    "a.remove(100)\n",
    "print a\n",
    "a.remove(12)\n",
    "print a\n",
    "a.remove()"
   ]
  },
  {
   "cell_type": "code",
   "execution_count": 19,
   "metadata": {},
   "outputs": [
    {
     "name": "stdout",
     "output_type": "stream",
     "text": [
      "[12, 89, 34, 100, 12, 89, 22, 19]\n",
      "[12, 89, 34, 12, 89, 22, 19]\n",
      "[89, 34, 12, 89, 22, 19]\n"
     ]
    },
    {
     "ename": "ValueError",
     "evalue": "list.remove(x): x not in list",
     "output_type": "error",
     "traceback": [
      "\u001b[1;31m---------------------------------------------------------------------------\u001b[0m",
      "\u001b[1;31mValueError\u001b[0m                                Traceback (most recent call last)",
      "\u001b[1;32m<ipython-input-19-5bbdc6aff1d6>\u001b[0m in \u001b[0;36m<module>\u001b[1;34m()\u001b[0m\n\u001b[0;32m      5\u001b[0m \u001b[0ma\u001b[0m\u001b[1;33m.\u001b[0m\u001b[0mremove\u001b[0m\u001b[1;33m(\u001b[0m\u001b[1;36m12\u001b[0m\u001b[1;33m)\u001b[0m\u001b[1;33m\u001b[0m\u001b[0m\n\u001b[0;32m      6\u001b[0m \u001b[1;32mprint\u001b[0m \u001b[0ma\u001b[0m\u001b[1;33m\u001b[0m\u001b[0m\n\u001b[1;32m----> 7\u001b[1;33m \u001b[0ma\u001b[0m\u001b[1;33m.\u001b[0m\u001b[0mremove\u001b[0m\u001b[1;33m(\u001b[0m\u001b[1;36m1000\u001b[0m\u001b[1;33m)\u001b[0m\u001b[1;33m\u001b[0m\u001b[0m\n\u001b[0m",
      "\u001b[1;31mValueError\u001b[0m: list.remove(x): x not in list"
     ]
    }
   ],
   "source": [
    "a = [12,89,34,100,12,89,22,19]\n",
    "print a\n",
    "a.remove(100)\n",
    "print a\n",
    "a.remove(12)\n",
    "print a\n",
    "a.remove(1000)"
   ]
  },
  {
   "cell_type": "code",
   "execution_count": 20,
   "metadata": {},
   "outputs": [
    {
     "name": "stdout",
     "output_type": "stream",
     "text": [
      "[12, 89, 3, 78, 7]\n",
      "[7, 78, 3, 89, 12]\n"
     ]
    }
   ],
   "source": [
    "a = [12,89,3,78,7]\n",
    "print a\n",
    "a.reverse()\n",
    "print a"
   ]
  },
  {
   "cell_type": "code",
   "execution_count": 22,
   "metadata": {},
   "outputs": [
    {
     "name": "stdout",
     "output_type": "stream",
     "text": [
      "[12, 89, 3, 78, 7]\n",
      "[3, 7, 12, 78, 89]\n",
      "[89, 78, 12, 7, 3]\n"
     ]
    }
   ],
   "source": [
    "a = [12,89,3,78,7]\n",
    "print a\n",
    "a.sort()\n",
    "print a\n",
    "a.reverse()\n",
    "print a"
   ]
  },
  {
   "cell_type": "code",
   "execution_count": null,
   "metadata": {},
   "outputs": [],
   "source": []
  }
 ],
 "metadata": {
  "kernelspec": {
   "display_name": "Python 2",
   "language": "python",
   "name": "python2"
  },
  "language_info": {
   "codemirror_mode": {
    "name": "ipython",
    "version": 2
   },
   "file_extension": ".py",
   "mimetype": "text/x-python",
   "name": "python",
   "nbconvert_exporter": "python",
   "pygments_lexer": "ipython2",
   "version": "2.7.16"
  }
 },
 "nbformat": 4,
 "nbformat_minor": 2
}
