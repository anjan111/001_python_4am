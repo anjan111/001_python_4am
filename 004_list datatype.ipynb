{
 "cells": [
  {
   "cell_type": "code",
   "execution_count": 1,
   "metadata": {},
   "outputs": [
    {
     "name": "stdout",
     "output_type": "stream",
     "text": [
      "[]\n",
      "<type 'list'>\n",
      "0\n"
     ]
    }
   ],
   "source": [
    "# list datatype\n",
    "'''\n",
    "Collection of elements with in []\n",
    "'''\n",
    "var = []\n",
    "print var\n",
    "print type(var)\n",
    "print len(var)"
   ]
  },
  {
   "cell_type": "code",
   "execution_count": 2,
   "metadata": {},
   "outputs": [
    {
     "name": "stdout",
     "output_type": "stream",
     "text": [
      "[12, 1.233, (12+4j), True, None, 'soc', [1, 2, 3], (1, 2, 3), set([1, 2]), {12: 45}]\n",
      "<type 'list'>\n",
      "10\n"
     ]
    }
   ],
   "source": [
    "# hetrogenious datatype\n",
    "var = [12 , 1.233 , 12+4j , True, None,\"soc\",[1,2,3],(1,2,3),{1,2},{12:45}]\n",
    "print var\n",
    "print type(var)\n",
    "print len(var)"
   ]
  },
  {
   "cell_type": "code",
   "execution_count": 4,
   "metadata": {},
   "outputs": [
    {
     "name": "stdout",
     "output_type": "stream",
     "text": [
      "positive indexing\n",
      "12\n",
      "1.233\n",
      "(12+4j)\n",
      "True\n",
      "{12: 45}\n",
      "Negative indexing\n",
      "{12: 45}\n",
      "set([1, 2])\n",
      "(1, 2, 3)\n",
      "[1, 2, 3]\n",
      "12\n"
     ]
    }
   ],
   "source": [
    "# list indexing \n",
    "var = [12 , 1.233 , 12+4j , True, None,\"soc\",[1,2,3],(1,2,3),{1,2},{12:45}]\n",
    "print \"positive indexing\"\n",
    "print var[0]\n",
    "print var[1]\n",
    "print var[2]\n",
    "print var[3]\n",
    "print var[9]\n",
    "print \"Negative indexing\"\n",
    "print var[-1]\n",
    "print var[-2]\n",
    "print var[-3]\n",
    "print var[-4]\n",
    "print var[-10]"
   ]
  },
  {
   "cell_type": "code",
   "execution_count": 5,
   "metadata": {},
   "outputs": [
    {
     "name": "stdout",
     "output_type": "stream",
     "text": [
      "[12, 1.233, (12+4j), True, None]\n",
      "[True, None, 'soc', [1, 2, 3], (1, 2, 3), set([1, 2]), {12: 45}]\n",
      "[True, None, 'soc', [1, 2, 3], (1, 2, 3)]\n"
     ]
    }
   ],
   "source": [
    "# list slicing   var[start :  stop]\n",
    "var = [12 , 1.233 , 12+4j , True, None,\"soc\",[1,2,3],(1,2,3),{1,2},{12:45}]\n",
    "print var[:5]# 0,1,2,3,4 ### start --> 0\n",
    "print var[3:]#3,4,5,6,7,8,9 #stop -->> len of list\n",
    "print var[3:8]#3,4,5,6,7"
   ]
  },
  {
   "cell_type": "code",
   "execution_count": 7,
   "metadata": {},
   "outputs": [
    {
     "name": "stdout",
     "output_type": "stream",
     "text": [
      "[12, True, [1, 2, 3]]\n",
      "[(12+4j), 'soc', set([1, 2])]\n",
      "[True, 'soc', (1, 2, 3), {12: 45}]\n",
      "[True, None, 'soc', [1, 2, 3]]\n"
     ]
    }
   ],
   "source": [
    "# list dicing   var[start :  stop : step]\n",
    "var = [12 , 1.233 , 12+4j , True, None,\"soc\",[1,2,3],(1,2,3),{1,2},{12:45}]\n",
    "print var [:9:3]# 0,3,6 # start ---> 0\n",
    "print var[2:9:3]#2,5,8  \n",
    "print var[3::2]# 3,5,7,9\n",
    "print var[3:7:]#3,4,5,6,7"
   ]
  },
  {
   "cell_type": "code",
   "execution_count": 9,
   "metadata": {},
   "outputs": [
    {
     "name": "stdout",
     "output_type": "stream",
     "text": [
      "[12, 3, 4]\n",
      "12\n",
      "[7, 2, 3, 56]\n",
      "2\n",
      "[7, 3]\n"
     ]
    }
   ],
   "source": [
    "# Nested indexing \n",
    "var = [[12,3,4],45,[7,2,3,56]]\n",
    "print var[0]\n",
    "print var[0][0]\n",
    "print var[2]\n",
    "print var[2][1]\n",
    "print var[2][0:3:2]"
   ]
  },
  {
   "cell_type": "code",
   "execution_count": 10,
   "metadata": {},
   "outputs": [
    {
     "name": "stdout",
     "output_type": "stream",
     "text": [
      "[1, 2, 3, 5, 9]\n",
      "[1, 2, 100, 5, 9]\n"
     ]
    }
   ],
   "source": [
    "# list is mutable daatatype\n",
    "var = [1,2,3,5,9]\n",
    "print var\n",
    "var[2] = 100\n",
    "print var"
   ]
  },
  {
   "cell_type": "code",
   "execution_count": 11,
   "metadata": {},
   "outputs": [
    {
     "name": "stdout",
     "output_type": "stream",
     "text": [
      "5\n",
      "121\n",
      "90\n",
      "1\n"
     ]
    }
   ],
   "source": [
    "var = [1,3,4,90,23]\n",
    "print len(var)\n",
    "print sum(var)\n",
    "print max(var)\n",
    "print min(var)"
   ]
  },
  {
   "cell_type": "code",
   "execution_count": null,
   "metadata": {},
   "outputs": [],
   "source": []
  }
 ],
 "metadata": {
  "kernelspec": {
   "display_name": "Python 2",
   "language": "python",
   "name": "python2"
  },
  "language_info": {
   "codemirror_mode": {
    "name": "ipython",
    "version": 2
   },
   "file_extension": ".py",
   "mimetype": "text/x-python",
   "name": "python",
   "nbconvert_exporter": "python",
   "pygments_lexer": "ipython2",
   "version": "2.7.16"
  }
 },
 "nbformat": 4,
 "nbformat_minor": 2
}
