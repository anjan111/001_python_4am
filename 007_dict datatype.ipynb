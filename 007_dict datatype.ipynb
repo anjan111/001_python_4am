{
 "cells": [
  {
   "cell_type": "code",
   "execution_count": 1,
   "metadata": {},
   "outputs": [
    {
     "name": "stdout",
     "output_type": "stream",
     "text": [
      "{34.4: (3+4j), 12: 'soc'}\n",
      "<type 'dict'>\n"
     ]
    }
   ],
   "source": [
    "# dict is collection items ( pair of key and value) with in {}\n",
    "# unorder items in a dict\n",
    "# indexing , slicing , dicing is not supported for accessing items\n",
    "var = {12 : \"soc\" , 34.4 : 3+4j}\n",
    "print var\n",
    "print type(var)"
   ]
  },
  {
   "cell_type": "code",
   "execution_count": 2,
   "metadata": {},
   "outputs": [
    {
     "name": "stdout",
     "output_type": "stream",
     "text": [
      "{34.4: (3+4j), 12: 'soc', 45: 'soc'}\n",
      "<type 'dict'>\n"
     ]
    }
   ],
   "source": [
    "# duplicating key items are not allowed\n",
    "var = {12 : \"soc\" , 34.4 : 3+4j , 45 : \"soc\"}\n",
    "print var\n",
    "print type(var)"
   ]
  },
  {
   "cell_type": "code",
   "execution_count": 3,
   "metadata": {},
   "outputs": [
    {
     "name": "stdout",
     "output_type": "stream",
     "text": [
      "{34.4: 'soc11', 12: 'soc'}\n",
      "<type 'dict'>\n"
     ]
    }
   ],
   "source": [
    "var = {12 : \"soc\" , 34.4 : 3+4j , 34.4 : \"soc11\"}\n",
    "print var\n",
    "print type(var)"
   ]
  },
  {
   "cell_type": "code",
   "execution_count": 4,
   "metadata": {},
   "outputs": [
    {
     "name": "stdout",
     "output_type": "stream",
     "text": [
      "{12: [1, 2, 3], (1, 4): {34: 566}, 45.2: set([12, 45])}\n"
     ]
    }
   ],
   "source": [
    "# we can use any datatype as a value\n",
    "# we can use only few datatypes a key (list, set ,dict are not supported )\n",
    "var = {12 : [1,2,3] , 45.2 : {12,45},(1,4):{34:566}}\n",
    "print var"
   ]
  },
  {
   "cell_type": "code",
   "execution_count": 5,
   "metadata": {},
   "outputs": [
    {
     "ename": "TypeError",
     "evalue": "unhashable type: 'list'",
     "output_type": "error",
     "traceback": [
      "\u001b[1;31m---------------------------------------------------------------------------\u001b[0m",
      "\u001b[1;31mTypeError\u001b[0m                                 Traceback (most recent call last)",
      "\u001b[1;32m<ipython-input-5-dd88fe398456>\u001b[0m in \u001b[0;36m<module>\u001b[1;34m()\u001b[0m\n\u001b[1;32m----> 1\u001b[1;33m \u001b[0mvar\u001b[0m \u001b[1;33m=\u001b[0m \u001b[1;33m{\u001b[0m\u001b[1;33m[\u001b[0m\u001b[1;36m1\u001b[0m\u001b[1;33m,\u001b[0m\u001b[1;36m2\u001b[0m\u001b[1;33m,\u001b[0m\u001b[1;36m3\u001b[0m\u001b[1;33m]\u001b[0m \u001b[1;33m:\u001b[0m \u001b[1;36m34\u001b[0m \u001b[1;33m,\u001b[0m \u001b[1;36m45.2\u001b[0m \u001b[1;33m:\u001b[0m \u001b[1;33m{\u001b[0m\u001b[1;36m12\u001b[0m\u001b[1;33m,\u001b[0m\u001b[1;36m45\u001b[0m\u001b[1;33m}\u001b[0m\u001b[1;33m,\u001b[0m\u001b[1;33m(\u001b[0m\u001b[1;36m1\u001b[0m\u001b[1;33m,\u001b[0m\u001b[1;36m4\u001b[0m\u001b[1;33m)\u001b[0m\u001b[1;33m:\u001b[0m\u001b[1;33m{\u001b[0m\u001b[1;36m34\u001b[0m\u001b[1;33m:\u001b[0m\u001b[1;36m566\u001b[0m\u001b[1;33m}\u001b[0m\u001b[1;33m}\u001b[0m\u001b[1;33m\u001b[0m\u001b[0m\n\u001b[0m\u001b[0;32m      2\u001b[0m \u001b[1;32mprint\u001b[0m \u001b[0mvar\u001b[0m\u001b[1;33m\u001b[0m\u001b[0m\n",
      "\u001b[1;31mTypeError\u001b[0m: unhashable type: 'list'"
     ]
    }
   ],
   "source": [
    "var = {[1,2,3] : 34 , 45.2 : {12,45},(1,4):{34:566}}\n",
    "print var"
   ]
  },
  {
   "cell_type": "code",
   "execution_count": 6,
   "metadata": {},
   "outputs": [
    {
     "ename": "TypeError",
     "evalue": "unhashable type: 'set'",
     "output_type": "error",
     "traceback": [
      "\u001b[1;31m---------------------------------------------------------------------------\u001b[0m",
      "\u001b[1;31mTypeError\u001b[0m                                 Traceback (most recent call last)",
      "\u001b[1;32m<ipython-input-6-a43759ec0bf3>\u001b[0m in \u001b[0;36m<module>\u001b[1;34m()\u001b[0m\n\u001b[1;32m----> 1\u001b[1;33m \u001b[0mvar\u001b[0m \u001b[1;33m=\u001b[0m \u001b[1;33m{\u001b[0m\u001b[1;36m12\u001b[0m \u001b[1;33m:\u001b[0m \u001b[1;33m[\u001b[0m\u001b[1;36m1\u001b[0m\u001b[1;33m,\u001b[0m\u001b[1;36m2\u001b[0m\u001b[1;33m,\u001b[0m\u001b[1;36m3\u001b[0m\u001b[1;33m]\u001b[0m \u001b[1;33m,\u001b[0m \u001b[1;33m{\u001b[0m\u001b[1;36m12\u001b[0m\u001b[1;33m,\u001b[0m\u001b[1;36m45\u001b[0m\u001b[1;33m}\u001b[0m\u001b[1;33m:\u001b[0m \u001b[1;36m34.23\u001b[0m\u001b[1;33m,\u001b[0m\u001b[1;33m(\u001b[0m\u001b[1;36m1\u001b[0m\u001b[1;33m,\u001b[0m\u001b[1;36m4\u001b[0m\u001b[1;33m)\u001b[0m\u001b[1;33m:\u001b[0m\u001b[1;33m{\u001b[0m\u001b[1;36m34\u001b[0m\u001b[1;33m:\u001b[0m\u001b[1;36m566\u001b[0m\u001b[1;33m}\u001b[0m\u001b[1;33m}\u001b[0m\u001b[1;33m\u001b[0m\u001b[0m\n\u001b[0m\u001b[0;32m      2\u001b[0m \u001b[1;32mprint\u001b[0m \u001b[0mvar\u001b[0m\u001b[1;33m\u001b[0m\u001b[0m\n",
      "\u001b[1;31mTypeError\u001b[0m: unhashable type: 'set'"
     ]
    }
   ],
   "source": [
    "var = {12 : [1,2,3] , {12,45}: 34.23,(1,4):{34:566}}\n",
    "print var"
   ]
  },
  {
   "cell_type": "code",
   "execution_count": 7,
   "metadata": {},
   "outputs": [
    {
     "ename": "TypeError",
     "evalue": "unhashable type: 'dict'",
     "output_type": "error",
     "traceback": [
      "\u001b[1;31m---------------------------------------------------------------------------\u001b[0m",
      "\u001b[1;31mTypeError\u001b[0m                                 Traceback (most recent call last)",
      "\u001b[1;32m<ipython-input-7-adf45a2a1aac>\u001b[0m in \u001b[0;36m<module>\u001b[1;34m()\u001b[0m\n\u001b[1;32m----> 1\u001b[1;33m \u001b[0mvar\u001b[0m \u001b[1;33m=\u001b[0m \u001b[1;33m{\u001b[0m\u001b[1;36m12\u001b[0m \u001b[1;33m:\u001b[0m \u001b[1;33m[\u001b[0m\u001b[1;36m1\u001b[0m\u001b[1;33m,\u001b[0m\u001b[1;36m2\u001b[0m\u001b[1;33m,\u001b[0m\u001b[1;36m3\u001b[0m\u001b[1;33m]\u001b[0m \u001b[1;33m,\u001b[0m \u001b[1;36m45.2\u001b[0m \u001b[1;33m:\u001b[0m \u001b[1;33m{\u001b[0m\u001b[1;36m12\u001b[0m\u001b[1;33m,\u001b[0m\u001b[1;36m45\u001b[0m\u001b[1;33m}\u001b[0m\u001b[1;33m,\u001b[0m\u001b[1;33m{\u001b[0m\u001b[1;36m34\u001b[0m\u001b[1;33m:\u001b[0m\u001b[1;36m566\u001b[0m\u001b[1;33m}\u001b[0m \u001b[1;33m:\u001b[0m \u001b[1;36m2343\u001b[0m\u001b[1;33m}\u001b[0m\u001b[1;33m\u001b[0m\u001b[0m\n\u001b[0m\u001b[0;32m      2\u001b[0m \u001b[1;32mprint\u001b[0m \u001b[0mvar\u001b[0m\u001b[1;33m\u001b[0m\u001b[0m\n",
      "\u001b[1;31mTypeError\u001b[0m: unhashable type: 'dict'"
     ]
    }
   ],
   "source": [
    "var = {12 : [1,2,3] , 45.2 : {12,45},{34:566} : 2343}\n",
    "print var"
   ]
  },
  {
   "cell_type": "code",
   "execution_count": 8,
   "metadata": {},
   "outputs": [
    {
     "name": "stdout",
     "output_type": "stream",
     "text": [
      "[90, 45, 67]\n",
      "[34, 12, 45]\n",
      "[(34, 90), (12, 45), (45, 67)]\n"
     ]
    }
   ],
   "source": [
    "var = {12: 45 , 45:67 , 34:90}\n",
    "print var.values()\n",
    "print var.keys()\n",
    "print var.items()\n"
   ]
  },
  {
   "cell_type": "code",
   "execution_count": 9,
   "metadata": {},
   "outputs": [
    {
     "name": "stdout",
     "output_type": "stream",
     "text": [
      "{34: 90, 12: 45, 45: 67}\n",
      "{}\n"
     ]
    }
   ],
   "source": [
    "var = {12: 45 , 45:67 , 34:90}\n",
    "print var\n",
    "var.clear()\n",
    "print var\n"
   ]
  },
  {
   "cell_type": "code",
   "execution_count": 10,
   "metadata": {},
   "outputs": [
    {
     "name": "stdout",
     "output_type": "stream",
     "text": [
      "{34: 90, 12: 45, 45: 67}\n",
      "{34: 90, 12: 45, 45: 67}\n",
      "{100: 123, 34: 90, 12: 45, 45: 67}\n",
      "{34: 90, 12: 45, 45: 67}\n"
     ]
    }
   ],
   "source": [
    "var = {12: 45 , 45:67 , 34:90}\n",
    "b = var.copy()\n",
    "print b\n",
    "print var\n",
    "b[100] = 123\n",
    "print b\n",
    "print var"
   ]
  },
  {
   "cell_type": "code",
   "execution_count": 11,
   "metadata": {},
   "outputs": [
    {
     "name": "stdout",
     "output_type": "stream",
     "text": [
      "{34: 90, 12: 45, 45: 67}\n",
      "{34: 90, 12: 45, 45: 67}\n",
      "{100: 123, 34: 90, 12: 45, 45: 67}\n",
      "{100: 123, 34: 90, 12: 45, 45: 67}\n"
     ]
    }
   ],
   "source": [
    "var = {12: 45 , 45:67 , 34:90}\n",
    "b = var\n",
    "print b\n",
    "print var\n",
    "b[100] = 123\n",
    "print b\n",
    "print var"
   ]
  },
  {
   "cell_type": "code",
   "execution_count": 12,
   "metadata": {},
   "outputs": [
    {
     "name": "stdout",
     "output_type": "stream",
     "text": [
      "{34: 90, 12: 45, 45: 67}\n",
      "67\n",
      "{34: 90, 12: 45}\n",
      "45\n",
      "{34: 90}\n"
     ]
    }
   ],
   "source": [
    "var = {12: 45 , 45:67 , 34:90}\n",
    "print var\n",
    "print var.pop(45)\n",
    "print var\n",
    "print var.pop(12)\n",
    "print var"
   ]
  },
  {
   "cell_type": "code",
   "execution_count": 13,
   "metadata": {},
   "outputs": [
    {
     "name": "stdout",
     "output_type": "stream",
     "text": [
      "{34: 90, 12: 45, 45: 67}\n",
      "(34, 90)\n",
      "{12: 45, 45: 67}\n",
      "(12, 45)\n",
      "{45: 67}\n"
     ]
    }
   ],
   "source": [
    "var = {12: 45 , 45:67 , 34:90}\n",
    "print var\n",
    "print var.popitem()\n",
    "print var\n",
    "print var.popitem()\n",
    "print var"
   ]
  },
  {
   "cell_type": "code",
   "execution_count": 14,
   "metadata": {},
   "outputs": [
    {
     "name": "stdout",
     "output_type": "stream",
     "text": [
      "{34: 90, 12: 45, 45: 67}\n",
      "67\n",
      "67\n",
      "90\n",
      "90\n"
     ]
    }
   ],
   "source": [
    "var = {12: 45 , 45:67 , 34:90}\n",
    "print var\n",
    "print var.get(45)\n",
    "print var[45] # key index\n",
    "print var.get(34)\n",
    "print var[34]"
   ]
  },
  {
   "cell_type": "code",
   "execution_count": 15,
   "metadata": {},
   "outputs": [
    {
     "name": "stdout",
     "output_type": "stream",
     "text": [
      "{34: 90, 12: 45, 45: 67}\n",
      "{90: 4344, 100: 45}\n",
      "{100: 45, 34: 90, 90: 4344, 12: 45, 45: 67}\n",
      "{90: 4344, 100: 45}\n"
     ]
    }
   ],
   "source": [
    "var = {12: 45 , 45:67 , 34:90}\n",
    "b = {100:45 , 90 : 4344}\n",
    "print var\n",
    "print b\n",
    "var.update(b)\n",
    "print var\n",
    "print b"
   ]
  },
  {
   "cell_type": "code",
   "execution_count": null,
   "metadata": {},
   "outputs": [],
   "source": []
  }
 ],
 "metadata": {
  "kernelspec": {
   "display_name": "Python 2",
   "language": "python",
   "name": "python2"
  },
  "language_info": {
   "codemirror_mode": {
    "name": "ipython",
    "version": 2
   },
   "file_extension": ".py",
   "mimetype": "text/x-python",
   "name": "python",
   "nbconvert_exporter": "python",
   "pygments_lexer": "ipython2",
   "version": "2.7.16"
  }
 },
 "nbformat": 4,
 "nbformat_minor": 2
}
