{
 "cells": [
  {
   "cell_type": "markdown",
   "metadata": {},
   "source": [
    "### Exception \n",
    "\n",
    "===>>> while execution of the program , the program execution can stop abnormally\n",
    "\n",
    "===>>> Bcz of Some error\n",
    "\n",
    "### Errors\n",
    "\n",
    "===>> The mistakes in a program\n",
    "\n",
    "===>> Syntax Error\n",
    "\n",
    "        1. The Error done programmer \n",
    "        \n",
    "        2. We need handle this syntax before the execution\n",
    "\n",
    "===>> Runtime Error\n",
    "\n",
    "        3. We will get This error at runtime ( execution)\n",
    "        \n",
    "        4. Logic of the programm / Memory Issue , "
   ]
  },
  {
   "cell_type": "code",
   "execution_count": 1,
   "metadata": {},
   "outputs": [
    {
     "name": "stdout",
     "output_type": "stream",
     "text": [
      "hello\n",
      "hai\n",
      "bye\n"
     ]
    }
   ],
   "source": [
    "print \"hello\"\n",
    "print \"hai\"\n",
    "print \"bye\""
   ]
  },
  {
   "cell_type": "code",
   "execution_count": 2,
   "metadata": {},
   "outputs": [
    {
     "ename": "SyntaxError",
     "evalue": "EOL while scanning string literal (<ipython-input-2-feeac52aa472>, line 2)",
     "output_type": "error",
     "traceback": [
      "\u001b[1;36m  File \u001b[1;32m\"<ipython-input-2-feeac52aa472>\"\u001b[1;36m, line \u001b[1;32m2\u001b[0m\n\u001b[1;33m    print \"hai'\u001b[0m\n\u001b[1;37m              ^\u001b[0m\n\u001b[1;31mSyntaxError\u001b[0m\u001b[1;31m:\u001b[0m EOL while scanning string literal\n"
     ]
    }
   ],
   "source": [
    "print \"hello\"\n",
    "print \"hai'\n",
    "print \"bye\""
   ]
  },
  {
   "cell_type": "code",
   "execution_count": 3,
   "metadata": {},
   "outputs": [
    {
     "ename": "SyntaxError",
     "evalue": "invalid syntax (<ipython-input-3-87e1b80d9544>, line 2)",
     "output_type": "error",
     "traceback": [
      "\u001b[1;36m  File \u001b[1;32m\"<ipython-input-3-87e1b80d9544>\"\u001b[1;36m, line \u001b[1;32m2\u001b[0m\n\u001b[1;33m    while = 124\u001b[0m\n\u001b[1;37m          ^\u001b[0m\n\u001b[1;31mSyntaxError\u001b[0m\u001b[1;31m:\u001b[0m invalid syntax\n"
     ]
    }
   ],
   "source": [
    "print \"hello\"\n",
    "while = 124\n",
    "print \"bye\""
   ]
  },
  {
   "cell_type": "code",
   "execution_count": 4,
   "metadata": {},
   "outputs": [
    {
     "name": "stdout",
     "output_type": "stream",
     "text": [
      "hello\n"
     ]
    },
    {
     "ename": "NameError",
     "evalue": "name 'var' is not defined",
     "output_type": "error",
     "traceback": [
      "\u001b[1;31m---------------------------------------------------------------------------\u001b[0m",
      "\u001b[1;31mNameError\u001b[0m                                 Traceback (most recent call last)",
      "\u001b[1;32m<ipython-input-4-3f4c6e28a1bc>\u001b[0m in \u001b[0;36m<module>\u001b[1;34m()\u001b[0m\n\u001b[0;32m      1\u001b[0m \u001b[1;31m###Runtime Error\u001b[0m\u001b[1;33m\u001b[0m\u001b[1;33m\u001b[0m\u001b[0m\n\u001b[0;32m      2\u001b[0m \u001b[1;32mprint\u001b[0m \u001b[1;34m\"hello\"\u001b[0m\u001b[1;33m\u001b[0m\u001b[0m\n\u001b[1;32m----> 3\u001b[1;33m \u001b[1;32mprint\u001b[0m \u001b[0mvar\u001b[0m\u001b[1;33m\u001b[0m\u001b[0m\n\u001b[0m\u001b[0;32m      4\u001b[0m \u001b[1;32mprint\u001b[0m \u001b[1;34m\"bye\"\u001b[0m\u001b[1;33m\u001b[0m\u001b[0m\n",
      "\u001b[1;31mNameError\u001b[0m: name 'var' is not defined"
     ]
    }
   ],
   "source": [
    "###Runtime Error\n",
    "print \"hello\"\n",
    "print var\n",
    "print \"bye\""
   ]
  },
  {
   "cell_type": "code",
   "execution_count": 5,
   "metadata": {},
   "outputs": [
    {
     "name": "stdout",
     "output_type": "stream",
     "text": [
      "hello\n"
     ]
    },
    {
     "ename": "IOError",
     "evalue": "[Errno 2] No such file or directory: 'ffdfbbds'",
     "output_type": "error",
     "traceback": [
      "\u001b[1;31m---------------------------------------------------------------------------\u001b[0m",
      "\u001b[1;31mIOError\u001b[0m                                   Traceback (most recent call last)",
      "\u001b[1;32m<ipython-input-5-d6db7b2627aa>\u001b[0m in \u001b[0;36m<module>\u001b[1;34m()\u001b[0m\n\u001b[0;32m      1\u001b[0m \u001b[1;32mprint\u001b[0m \u001b[1;34m\"hello\"\u001b[0m\u001b[1;33m\u001b[0m\u001b[0m\n\u001b[1;32m----> 2\u001b[1;33m \u001b[0mopen\u001b[0m\u001b[1;33m(\u001b[0m\u001b[1;34m\"ffdfbbds\"\u001b[0m\u001b[1;33m)\u001b[0m\u001b[1;33m\u001b[0m\u001b[0m\n\u001b[0m\u001b[0;32m      3\u001b[0m \u001b[1;32mprint\u001b[0m \u001b[1;34m\"bye\"\u001b[0m\u001b[1;33m\u001b[0m\u001b[0m\n",
      "\u001b[1;31mIOError\u001b[0m: [Errno 2] No such file or directory: 'ffdfbbds'"
     ]
    }
   ],
   "source": [
    "print \"hello\"\n",
    "open(\"ffdfbbds\")\n",
    "print \"bye\""
   ]
  },
  {
   "cell_type": "code",
   "execution_count": 6,
   "metadata": {},
   "outputs": [
    {
     "name": "stdout",
     "output_type": "stream",
     "text": [
      "hello\n"
     ]
    },
    {
     "ename": "ImportError",
     "evalue": "No module named rtyuertyu",
     "output_type": "error",
     "traceback": [
      "\u001b[1;31m---------------------------------------------------------------------------\u001b[0m",
      "\u001b[1;31mImportError\u001b[0m                               Traceback (most recent call last)",
      "\u001b[1;32m<ipython-input-6-78d90166539f>\u001b[0m in \u001b[0;36m<module>\u001b[1;34m()\u001b[0m\n\u001b[0;32m      1\u001b[0m \u001b[1;32mprint\u001b[0m \u001b[1;34m\"hello\"\u001b[0m\u001b[1;33m\u001b[0m\u001b[0m\n\u001b[1;32m----> 2\u001b[1;33m \u001b[1;32mimport\u001b[0m \u001b[0mrtyuertyu\u001b[0m\u001b[1;33m\u001b[0m\u001b[0m\n\u001b[0m\u001b[0;32m      3\u001b[0m \u001b[1;32mprint\u001b[0m \u001b[1;34m\"bye\"\u001b[0m\u001b[1;33m\u001b[0m\u001b[0m\n",
      "\u001b[1;31mImportError\u001b[0m: No module named rtyuertyu"
     ]
    }
   ],
   "source": [
    "print \"hello\"\n",
    "import rtyuertyu\n",
    "print \"bye\""
   ]
  },
  {
   "cell_type": "code",
   "execution_count": 7,
   "metadata": {},
   "outputs": [
    {
     "name": "stdout",
     "output_type": "stream",
     "text": [
      "hello\n"
     ]
    },
    {
     "ename": "ZeroDivisionError",
     "evalue": "integer division or modulo by zero",
     "output_type": "error",
     "traceback": [
      "\u001b[1;31m---------------------------------------------------------------------------\u001b[0m",
      "\u001b[1;31mZeroDivisionError\u001b[0m                         Traceback (most recent call last)",
      "\u001b[1;32m<ipython-input-7-174e009a6d99>\u001b[0m in \u001b[0;36m<module>\u001b[1;34m()\u001b[0m\n\u001b[0;32m      1\u001b[0m \u001b[1;32mprint\u001b[0m \u001b[1;34m\"hello\"\u001b[0m\u001b[1;33m\u001b[0m\u001b[0m\n\u001b[1;32m----> 2\u001b[1;33m \u001b[1;32mprint\u001b[0m \u001b[1;36m78\u001b[0m\u001b[1;33m/\u001b[0m\u001b[1;36m0\u001b[0m\u001b[1;33m\u001b[0m\u001b[0m\n\u001b[0m\u001b[0;32m      3\u001b[0m \u001b[1;32mprint\u001b[0m \u001b[1;34m\"bye\"\u001b[0m\u001b[1;33m\u001b[0m\u001b[0m\n",
      "\u001b[1;31mZeroDivisionError\u001b[0m: integer division or modulo by zero"
     ]
    }
   ],
   "source": [
    "print \"hello\"\n",
    "print 78/0\n",
    "print \"bye\""
   ]
  },
  {
   "cell_type": "code",
   "execution_count": 8,
   "metadata": {},
   "outputs": [
    {
     "name": "stdout",
     "output_type": "stream",
     "text": [
      "hello\n"
     ]
    },
    {
     "ename": "TypeError",
     "evalue": "can't convert complex to int",
     "output_type": "error",
     "traceback": [
      "\u001b[1;31m---------------------------------------------------------------------------\u001b[0m",
      "\u001b[1;31mTypeError\u001b[0m                                 Traceback (most recent call last)",
      "\u001b[1;32m<ipython-input-8-9e9a559b9195>\u001b[0m in \u001b[0;36m<module>\u001b[1;34m()\u001b[0m\n\u001b[0;32m      1\u001b[0m \u001b[1;32mprint\u001b[0m \u001b[1;34m\"hello\"\u001b[0m\u001b[1;33m\u001b[0m\u001b[0m\n\u001b[1;32m----> 2\u001b[1;33m \u001b[1;32mprint\u001b[0m \u001b[0mint\u001b[0m\u001b[1;33m(\u001b[0m\u001b[1;36m12\u001b[0m\u001b[1;33m+\u001b[0m\u001b[1;36m4j\u001b[0m\u001b[1;33m)\u001b[0m\u001b[1;33m\u001b[0m\u001b[0m\n\u001b[0m\u001b[0;32m      3\u001b[0m \u001b[1;32mprint\u001b[0m \u001b[1;34m\"bye\"\u001b[0m\u001b[1;33m\u001b[0m\u001b[0m\n",
      "\u001b[1;31mTypeError\u001b[0m: can't convert complex to int"
     ]
    }
   ],
   "source": [
    "print \"hello\"\n",
    "print int(12+4j)\n",
    "print \"bye\""
   ]
  },
  {
   "cell_type": "code",
   "execution_count": 9,
   "metadata": {},
   "outputs": [
    {
     "name": "stdout",
     "output_type": "stream",
     "text": [
      "hello\n"
     ]
    },
    {
     "ename": "ValueError",
     "evalue": "invalid literal for int() with base 10: '3344.jj4'",
     "output_type": "error",
     "traceback": [
      "\u001b[1;31m---------------------------------------------------------------------------\u001b[0m",
      "\u001b[1;31mValueError\u001b[0m                                Traceback (most recent call last)",
      "\u001b[1;32m<ipython-input-9-bbc1e4bb414f>\u001b[0m in \u001b[0;36m<module>\u001b[1;34m()\u001b[0m\n\u001b[0;32m      1\u001b[0m \u001b[1;32mprint\u001b[0m \u001b[1;34m\"hello\"\u001b[0m\u001b[1;33m\u001b[0m\u001b[0m\n\u001b[1;32m----> 2\u001b[1;33m \u001b[1;32mprint\u001b[0m \u001b[0mint\u001b[0m\u001b[1;33m(\u001b[0m\u001b[1;34m\"3344.jj4\"\u001b[0m\u001b[1;33m)\u001b[0m\u001b[1;33m\u001b[0m\u001b[0m\n\u001b[0m\u001b[0;32m      3\u001b[0m \u001b[1;32mprint\u001b[0m \u001b[1;34m\"bye\"\u001b[0m\u001b[1;33m\u001b[0m\u001b[0m\n",
      "\u001b[1;31mValueError\u001b[0m: invalid literal for int() with base 10: '3344.jj4'"
     ]
    }
   ],
   "source": [
    "print \"hello\"\n",
    "print int(\"3344.jj4\")\n",
    "print \"bye\""
   ]
  },
  {
   "cell_type": "code",
   "execution_count": null,
   "metadata": {},
   "outputs": [],
   "source": []
  },
  {
   "cell_type": "code",
   "execution_count": 10,
   "metadata": {},
   "outputs": [],
   "source": [
    "try :\n",
    "    \n",
    "    pass\n",
    "\n",
    "except :\n",
    "    pass"
   ]
  },
  {
   "cell_type": "code",
   "execution_count": 11,
   "metadata": {},
   "outputs": [
    {
     "ename": "SyntaxError",
     "evalue": "EOL while scanning string literal (<ipython-input-11-fcbe7532a8b6>, line 3)",
     "output_type": "error",
     "traceback": [
      "\u001b[1;36m  File \u001b[1;32m\"<ipython-input-11-fcbe7532a8b6>\"\u001b[1;36m, line \u001b[1;32m3\u001b[0m\n\u001b[1;33m    print \"hai'\u001b[0m\n\u001b[1;37m              ^\u001b[0m\n\u001b[1;31mSyntaxError\u001b[0m\u001b[1;31m:\u001b[0m EOL while scanning string literal\n"
     ]
    }
   ],
   "source": [
    "try :\n",
    "    print \"hello\"\n",
    "    print \"hai'\n",
    "    print \"bye\"\n",
    "except :\n",
    "    print \"i am exception handler\"\n",
    "else:\n",
    "    print \"we don't have any exception\"\n",
    "finally:\n",
    "    print \"This is not depending on Exception\""
   ]
  },
  {
   "cell_type": "code",
   "execution_count": 12,
   "metadata": {},
   "outputs": [
    {
     "name": "stdout",
     "output_type": "stream",
     "text": [
      "hello\n",
      "hai\n",
      "bye\n",
      "we don't have any exception\n",
      "This is not depending on Exception\n"
     ]
    }
   ],
   "source": [
    "try :\n",
    "    print \"hello\"\n",
    "    print \"hai\"\n",
    "    print \"bye\"\n",
    "except :\n",
    "    print \"i am exception handler\"\n",
    "else:\n",
    "    print \"we don't have any exception\"\n",
    "finally:\n",
    "    print \"This is not depending on Exception\""
   ]
  },
  {
   "cell_type": "code",
   "execution_count": 13,
   "metadata": {},
   "outputs": [
    {
     "name": "stdout",
     "output_type": "stream",
     "text": [
      "hello\n",
      "i am exception handler\n",
      "This is not depending on Exception\n"
     ]
    }
   ],
   "source": [
    "try :\n",
    "    print \"hello\"\n",
    "    print 23/0\n",
    "    print \"bye\"\n",
    "except :\n",
    "    print \"i am exception handler\"\n",
    "else:\n",
    "    print \"we don't have any exception\"\n",
    "finally:\n",
    "    print \"This is not depending on Exception\""
   ]
  },
  {
   "cell_type": "code",
   "execution_count": 14,
   "metadata": {},
   "outputs": [
    {
     "name": "stdout",
     "output_type": "stream",
     "text": [
      "hello\n",
      "i am exception handler\n",
      "This is not depending on Exception\n"
     ]
    }
   ],
   "source": [
    "try :\n",
    "    print \"hello\"\n",
    "    print int(3+4j)\n",
    "    print \"bye\"\n",
    "except :\n",
    "    print \"i am exception handler\"\n",
    "else:\n",
    "    print \"we don't have any exception\"\n",
    "finally:\n",
    "    print \"This is not depending on Exception\""
   ]
  },
  {
   "cell_type": "code",
   "execution_count": 15,
   "metadata": {},
   "outputs": [
    {
     "name": "stdout",
     "output_type": "stream",
     "text": [
      "hello\n",
      "i am ZeroDivisionError exception handler\n",
      "This is not depending on Exception\n"
     ]
    }
   ],
   "source": [
    "try :\n",
    "    print \"hello\"\n",
    "    print 23/0\n",
    "    print \"bye\"\n",
    "    \n",
    "except TypeError:\n",
    "    print \"i am Type Error exception handler\"\n",
    "except ValueError :\n",
    "    print \"i am ValueError exception handler\"\n",
    "except ZeroDivisionError :\n",
    "    print \"i am ZeroDivisionError exception handler\"\n",
    "except NameError :\n",
    "    print \"i am Name Error exception handler\"\n",
    "except IOError:\n",
    "    print \"i am  IOError exception handler\"\n",
    "except ImportError:\n",
    "    print \"i am ImportError exception handler\"\n",
    "\n",
    "except :\n",
    "    print \"i am exception handler\"\n",
    "else:\n",
    "    print \"we don't have any exception\"\n",
    "finally:\n",
    "    print \"This is not depending on Exception\""
   ]
  },
  {
   "cell_type": "code",
   "execution_count": 17,
   "metadata": {},
   "outputs": [
    {
     "name": "stdout",
     "output_type": "stream",
     "text": [
      "hello\n",
      "i am  IOError exception handler\n",
      "This is not depending on Exception\n"
     ]
    }
   ],
   "source": [
    "try :\n",
    "    print \"hello\"\n",
    "    open(\"fjkghfgjkf\")\n",
    "    print \"bye\"\n",
    "    \n",
    "except TypeError:\n",
    "    print \"i am Type Error exception handler\"\n",
    "except ValueError :\n",
    "    print \"i am ValueError exception handler\"\n",
    "except ZeroDivisionError :\n",
    "    print \"i am ZeroDivisionError exception handler\"\n",
    "except NameError :\n",
    "    print \"i am Name Error exception handler\"\n",
    "except IOError:\n",
    "    print \"i am  IOError exception handler\"\n",
    "except ImportError:\n",
    "    print \"i am ImportError exception handler\"\n",
    "\n",
    "except :\n",
    "    print \"i am exception handler\"\n",
    "else:\n",
    "    print \"we don't have any exception\"\n",
    "finally:\n",
    "    print \"This is not depending on Exception\""
   ]
  },
  {
   "cell_type": "code",
   "execution_count": 18,
   "metadata": {},
   "outputs": [
    {
     "name": "stdout",
     "output_type": "stream",
     "text": [
      "hello\n",
      "i am Name Error exception handler\n",
      "This is not depending on Exception\n"
     ]
    }
   ],
   "source": [
    "try :\n",
    "    print \"hello\"\n",
    "    print var\n",
    "    print \"bye\"\n",
    "    \n",
    "except TypeError:\n",
    "    print \"i am Type Error exception handler\"\n",
    "except ValueError :\n",
    "    print \"i am ValueError exception handler\"\n",
    "except ZeroDivisionError :\n",
    "    print \"i am ZeroDivisionError exception handler\"\n",
    "except NameError :\n",
    "    print \"i am Name Error exception handler\"\n",
    "except IOError:\n",
    "    print \"i am  IOError exception handler\"\n",
    "except ImportError:\n",
    "    print \"i am ImportError exception handler\"\n",
    "\n",
    "except :\n",
    "    print \"i am exception handler\"\n",
    "else:\n",
    "    print \"we don't have any exception\"\n",
    "finally:\n",
    "    print \"This is not depending on Exception\""
   ]
  },
  {
   "cell_type": "code",
   "execution_count": 19,
   "metadata": {},
   "outputs": [
    {
     "name": "stdout",
     "output_type": "stream",
     "text": [
      "hello\n",
      "i am  IOError exception handler\n",
      "This is not depending on Exception\n"
     ]
    }
   ],
   "source": [
    "try :\n",
    "    print \"hello\"\n",
    "    raise IOError\n",
    "    print \"bye\"\n",
    "    \n",
    "except TypeError:\n",
    "    print \"i am Type Error exception handler\"\n",
    "except ValueError :\n",
    "    print \"i am ValueError exception handler\"\n",
    "except ZeroDivisionError :\n",
    "    print \"i am ZeroDivisionError exception handler\"\n",
    "except NameError :\n",
    "    print \"i am Name Error exception handler\"\n",
    "except IOError:\n",
    "    print \"i am  IOError exception handler\"\n",
    "except ImportError:\n",
    "    print \"i am ImportError exception handler\"\n",
    "\n",
    "except :\n",
    "    print \"i am exception handler\"\n",
    "else:\n",
    "    print \"we don't have any exception\"\n",
    "finally:\n",
    "    print \"This is not depending on Exception\""
   ]
  },
  {
   "cell_type": "code",
   "execution_count": null,
   "metadata": {},
   "outputs": [],
   "source": []
  }
 ],
 "metadata": {
  "kernelspec": {
   "display_name": "Python 2",
   "language": "python",
   "name": "python2"
  },
  "language_info": {
   "codemirror_mode": {
    "name": "ipython",
    "version": 2
   },
   "file_extension": ".py",
   "mimetype": "text/x-python",
   "name": "python",
   "nbconvert_exporter": "python",
   "pygments_lexer": "ipython2",
   "version": "2.7.16"
  }
 },
 "nbformat": 4,
 "nbformat_minor": 2
}
