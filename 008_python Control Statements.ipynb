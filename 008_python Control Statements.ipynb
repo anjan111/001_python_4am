{
 "cells": [
  {
   "cell_type": "code",
   "execution_count": 1,
   "metadata": {},
   "outputs": [
    {
     "name": "stdout",
     "output_type": "stream",
     "text": [
      "enter age : 15\n",
      "Thanks for visiting the Voter id Center\n"
     ]
    }
   ],
   "source": [
    "# Statement\n",
    "'''\n",
    "==>>An instruction which can be executable with in the program\n",
    "\n",
    "'''\n",
    "# Program\n",
    "'''\n",
    "===>> Collection of statements to do any one specific task.\n",
    "'''\n",
    "#How the cam executes \n",
    "'''\n",
    "===>> Statement by statement\n",
    "'''\n",
    "# control statements\n",
    "'''\n",
    "==>> we can change the flow of execution of the program\n",
    "'''\n",
    "#Types of  control statements\n",
    "'''\n",
    "==>> 1. Conditional statements\n",
    "==>> 2. Looping Statements\n",
    "==>> 3. Control keywords \n",
    "'''\n",
    "# Conditional statements\n",
    "'''\n",
    "==> The statements execution can depends on conditions\n",
    "1. simple if\n",
    "2. if and else\n",
    "3. elif ladder\n",
    "4. Nested if\n",
    "'''\n",
    "############# simple if \n",
    "'''\n",
    "start\n",
    "----\n",
    "if ( condition ):\n",
    "    Task\n",
    "    ----\n",
    "    ----\n",
    "    ----\n",
    "stop\n",
    "-----\n",
    "'''\n",
    "# wap apply for voter id application\n",
    "age = input(\"enter age : \")\n",
    "if (age >= 18):\n",
    "    print \"You can apply voter id\"\n",
    "    Name = input(\"enter name : \")\n",
    "    phone= input(\"enter phone : \")\n",
    "    DOB = input(\"enter DOB : \")\n",
    "print \"Thanks for visiting the Voter id Center\""
   ]
  },
  {
   "cell_type": "code",
   "execution_count": 2,
   "metadata": {},
   "outputs": [
    {
     "name": "stdout",
     "output_type": "stream",
     "text": [
      "enter age : 20\n",
      "You can apply voter id\n",
      "enter name : \"anjan\"\n",
      "enter phone : 98558935\n",
      "enter DOB : \"26-01-1994\"\n",
      "Thanks for visiting the Voter id Center\n"
     ]
    }
   ],
   "source": [
    "# wap apply for voter id application\n",
    "age = input(\"enter age : \")\n",
    "if (age >= 18):\n",
    "    print \"You can apply voter id\"\n",
    "    Name = input(\"enter name : \")\n",
    "    phone= input(\"enter phone : \")\n",
    "    DOB = input(\"enter DOB : \")\n",
    "print \"Thanks for visiting the Voter id Center\""
   ]
  },
  {
   "cell_type": "code",
   "execution_count": 3,
   "metadata": {},
   "outputs": [
    {
     "name": "stdout",
     "output_type": "stream",
     "text": [
      "enter rad : 12\n",
      "per :  75.4285714286 meters\n",
      "task over\n"
     ]
    }
   ],
   "source": [
    "# if and else\n",
    "'''\n",
    "start\n",
    "-----\n",
    "if (cond ):\n",
    "    Task1\n",
    "    -----\n",
    "else:\n",
    "    Task2\n",
    "    ------\n",
    "stop\n",
    "----\n",
    "---\n",
    "'''\n",
    "# wap find the area of circle when rad is float other wise find the perimter\n",
    "\n",
    "rad = input(\"enter rad : \")\n",
    "pi  = 22.0/7\n",
    "if(isinstance(rad,float)):\n",
    "    area = pi*(rad ** 2)\n",
    "    print \"area : \",area,\"sq m\"\n",
    "else:\n",
    "    peri = 2*pi*rad\n",
    "    print \"per : \",peri,\"meters\"\n",
    "print \"task over\""
   ]
  },
  {
   "cell_type": "code",
   "execution_count": 4,
   "metadata": {},
   "outputs": [
    {
     "name": "stdout",
     "output_type": "stream",
     "text": [
      "enter rad : 12.0\n",
      "area :  452.571428571 sq m\n",
      "task over\n"
     ]
    }
   ],
   "source": [
    "rad = input(\"enter rad : \")\n",
    "pi  = 22.0/7\n",
    "if(isinstance(rad,float)):\n",
    "    area = pi*(rad ** 2)\n",
    "    print \"area : \",area,\"sq m\"\n",
    "else:\n",
    "    peri = 2*pi*rad\n",
    "    print \"per : \",peri,\"meters\"\n",
    "print \"task over\""
   ]
  },
  {
   "cell_type": "code",
   "execution_count": 6,
   "metadata": {},
   "outputs": [
    {
     "name": "stdout",
     "output_type": "stream",
     "text": [
      "enter exp : 10\n",
      "salary 50Lac PA\n"
     ]
    }
   ],
   "source": [
    "# elif ladder \n",
    "'''\n",
    "if (cond1):\n",
    "    Task1\n",
    "    \n",
    "elif(Cond2):\n",
    "    Task2\n",
    "\n",
    "elif(cond3):\n",
    "    Task3\n",
    "\n",
    "elif(cod4):\n",
    "    Task4\n",
    "\n",
    "\n",
    "else:\n",
    "    Task5\n",
    "'''\n",
    "# wap fix the salary based on exp\n",
    "\n",
    "exp = input(\"enter exp : \")\n",
    "if(exp >= 0  and exp < 2):\n",
    "    print \"salary 5Lac PA\"\n",
    "elif(exp >=0 and exp < 4):\n",
    "    print \"salary 10Lac PA\"\n",
    "elif(exp >=0 and exp < 8):\n",
    "    print \"salary 20Lac PA\"\n",
    "elif(exp >=0 and exp < 15):\n",
    "    print \"salary 50Lac PA\"\n",
    "elif(exp >=0 and exp < 20):\n",
    "    print \"salary 80Lac PA\"\n",
    "elif(exp>= 20):\n",
    "    print \"salary 1 cr PA\"\n",
    "else:\n",
    "    print \"please provide proper exp\""
   ]
  },
  {
   "cell_type": "code",
   "execution_count": 7,
   "metadata": {},
   "outputs": [
    {
     "name": "stdout",
     "output_type": "stream",
     "text": [
      "enter exp : -5\n",
      "please provide proper exp\n"
     ]
    }
   ],
   "source": [
    "exp = input(\"enter exp : \")\n",
    "if(exp >= 0  and exp < 2):\n",
    "    print \"salary 5Lac PA\"\n",
    "elif(exp >=0 and exp < 4):\n",
    "    print \"salary 10Lac PA\"\n",
    "elif(exp >=0 and exp < 8):\n",
    "    print \"salary 20Lac PA\"\n",
    "elif(exp >=0 and exp < 15):\n",
    "    print \"salary 50Lac PA\"\n",
    "elif(exp >=0 and exp < 20):\n",
    "    print \"salary 80Lac PA\"\n",
    "elif(exp>= 20):\n",
    "    print \"salary 1 cr PA\"\n",
    "else:\n",
    "    print \"please provide proper exp\""
   ]
  },
  {
   "cell_type": "code",
   "execution_count": null,
   "metadata": {},
   "outputs": [],
   "source": []
  }
 ],
 "metadata": {
  "kernelspec": {
   "display_name": "Python 2",
   "language": "python",
   "name": "python2"
  },
  "language_info": {
   "codemirror_mode": {
    "name": "ipython",
    "version": 2
   },
   "file_extension": ".py",
   "mimetype": "text/x-python",
   "name": "python",
   "nbconvert_exporter": "python",
   "pygments_lexer": "ipython2",
   "version": "2.7.16"
  }
 },
 "nbformat": 4,
 "nbformat_minor": 2
}
