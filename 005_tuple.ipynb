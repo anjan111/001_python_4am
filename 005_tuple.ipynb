{
 "cells": [
  {
   "cell_type": "code",
   "execution_count": 1,
   "metadata": {},
   "outputs": [
    {
     "name": "stdout",
     "output_type": "stream",
     "text": [
      "()\n",
      "<type 'tuple'>\n",
      "0\n"
     ]
    }
   ],
   "source": [
    "# tuple datatype\n",
    "'''\n",
    "Collection of elements with in ()\n",
    "'''\n",
    "var = ()\n",
    "print var\n",
    "print type(var)\n",
    "print len(var)"
   ]
  },
  {
   "cell_type": "code",
   "execution_count": 2,
   "metadata": {},
   "outputs": [
    {
     "name": "stdout",
     "output_type": "stream",
     "text": [
      "(12, 1.233, (12+4j), True, None, 'soc', [1, 2, 3], (1, 2, 3), set([1, 2]), {12: 45})\n",
      "<type 'tuple'>\n",
      "10\n"
     ]
    }
   ],
   "source": [
    "# hetrogenious datatype\n",
    "var = (12 , 1.233 , 12+4j , True, None,\"soc\",[1,2,3],(1,2,3),{1,2},{12:45})\n",
    "print var\n",
    "print type(var)\n",
    "print len(var)"
   ]
  },
  {
   "cell_type": "code",
   "execution_count": 3,
   "metadata": {},
   "outputs": [
    {
     "name": "stdout",
     "output_type": "stream",
     "text": [
      "positive indexing\n",
      "12\n",
      "1.233\n",
      "(12+4j)\n",
      "True\n",
      "{12: 45}\n",
      "Negative indexing\n",
      "{12: 45}\n",
      "set([1, 2])\n",
      "(1, 2, 3)\n",
      "[1, 2, 3]\n",
      "12\n"
     ]
    }
   ],
   "source": [
    "# tuple indexing \n",
    "var = (12 , 1.233 , 12+4j , True, None,\"soc\",[1,2,3],(1,2,3),{1,2},{12:45})\n",
    "print \"positive indexing\"\n",
    "print var[0]\n",
    "print var[1]\n",
    "print var[2]\n",
    "print var[3]\n",
    "print var[9]\n",
    "print \"Negative indexing\"\n",
    "print var[-1]\n",
    "print var[-2]\n",
    "print var[-3]\n",
    "print var[-4]\n",
    "print var[-10]"
   ]
  },
  {
   "cell_type": "code",
   "execution_count": 4,
   "metadata": {},
   "outputs": [
    {
     "name": "stdout",
     "output_type": "stream",
     "text": [
      "(12, 1.233, (12+4j), True, None)\n",
      "(True, None, 'soc', [1, 2, 3], (1, 2, 3), set([1, 2]), {12: 45})\n",
      "(True, None, 'soc', [1, 2, 3], (1, 2, 3))\n"
     ]
    }
   ],
   "source": [
    "# tuple slicing   var[start :  stop]\n",
    "var = (12 , 1.233 , 12+4j , True, None,\"soc\",[1,2,3],(1,2,3),{1,2},{12:45})\n",
    "print var[:5]# 0,1,2,3,4 ### start --> 0\n",
    "print var[3:]#3,4,5,6,7,8,9 #stop -->> len of list\n",
    "print var[3:8]#3,4,5,6,7"
   ]
  },
  {
   "cell_type": "code",
   "execution_count": 5,
   "metadata": {},
   "outputs": [
    {
     "name": "stdout",
     "output_type": "stream",
     "text": [
      "(12, True, [1, 2, 3])\n",
      "((12+4j), 'soc', set([1, 2]))\n",
      "(True, 'soc', (1, 2, 3), {12: 45})\n",
      "(True, None, 'soc', [1, 2, 3])\n"
     ]
    }
   ],
   "source": [
    "# tuple dicing   var[start :  stop : step]\n",
    "var = (12 , 1.233 , 12+4j , True, None,\"soc\",[1,2,3],(1,2,3),{1,2},{12:45})\n",
    "print var [:9:3]# 0,3,6 # start ---> 0\n",
    "print var[2:9:3]#2,5,8  \n",
    "print var[3::2]# 3,5,7,9\n",
    "print var[3:7:]#3,4,5,6,7"
   ]
  },
  {
   "cell_type": "code",
   "execution_count": 6,
   "metadata": {},
   "outputs": [
    {
     "name": "stdout",
     "output_type": "stream",
     "text": [
      "[12, 3, 4]\n",
      "12\n",
      "[7, 2, 3, 56]\n",
      "2\n",
      "[7, 3]\n"
     ]
    }
   ],
   "source": [
    "# Nested indexing \n",
    "var = ([12,3,4],45,[7,2,3,56])\n",
    "print var[0]\n",
    "print var[0][0]\n",
    "print var[2]\n",
    "print var[2][1]\n",
    "print var[2][0:3:2]"
   ]
  },
  {
   "cell_type": "code",
   "execution_count": 7,
   "metadata": {},
   "outputs": [
    {
     "name": "stdout",
     "output_type": "stream",
     "text": [
      "(1, 2, 3, 5, 9)\n"
     ]
    },
    {
     "ename": "TypeError",
     "evalue": "'tuple' object does not support item assignment",
     "output_type": "error",
     "traceback": [
      "\u001b[1;31m---------------------------------------------------------------------------\u001b[0m",
      "\u001b[1;31mTypeError\u001b[0m                                 Traceback (most recent call last)",
      "\u001b[1;32m<ipython-input-7-97caaa35b9dd>\u001b[0m in \u001b[0;36m<module>\u001b[1;34m()\u001b[0m\n\u001b[0;32m      2\u001b[0m \u001b[0mvar\u001b[0m \u001b[1;33m=\u001b[0m \u001b[1;33m(\u001b[0m\u001b[1;36m1\u001b[0m\u001b[1;33m,\u001b[0m\u001b[1;36m2\u001b[0m\u001b[1;33m,\u001b[0m\u001b[1;36m3\u001b[0m\u001b[1;33m,\u001b[0m\u001b[1;36m5\u001b[0m\u001b[1;33m,\u001b[0m\u001b[1;36m9\u001b[0m\u001b[1;33m)\u001b[0m\u001b[1;33m\u001b[0m\u001b[0m\n\u001b[0;32m      3\u001b[0m \u001b[1;32mprint\u001b[0m \u001b[0mvar\u001b[0m\u001b[1;33m\u001b[0m\u001b[0m\n\u001b[1;32m----> 4\u001b[1;33m \u001b[0mvar\u001b[0m\u001b[1;33m[\u001b[0m\u001b[1;36m2\u001b[0m\u001b[1;33m]\u001b[0m \u001b[1;33m=\u001b[0m \u001b[1;36m100\u001b[0m\u001b[1;33m\u001b[0m\u001b[0m\n\u001b[0m\u001b[0;32m      5\u001b[0m \u001b[1;32mprint\u001b[0m \u001b[0mvar\u001b[0m\u001b[1;33m\u001b[0m\u001b[0m\n",
      "\u001b[1;31mTypeError\u001b[0m: 'tuple' object does not support item assignment"
     ]
    }
   ],
   "source": [
    "# tuple is immutable daatatype\n",
    "var = (1,2,3,5,9)\n",
    "print var\n",
    "var[2] = 100\n",
    "print var"
   ]
  },
  {
   "cell_type": "code",
   "execution_count": 8,
   "metadata": {},
   "outputs": [
    {
     "name": "stdout",
     "output_type": "stream",
     "text": [
      "5\n",
      "121\n",
      "90\n",
      "1\n"
     ]
    }
   ],
   "source": [
    "var = (1,3,4,90,23)\n",
    "print len(var)\n",
    "print sum(var)\n",
    "print max(var)\n",
    "print min(var)"
   ]
  },
  {
   "cell_type": "code",
   "execution_count": 9,
   "metadata": {},
   "outputs": [
    {
     "name": "stdout",
     "output_type": "stream",
     "text": [
      "['__add__', '__class__', '__contains__', '__delattr__', '__doc__', '__eq__', '__format__', '__ge__', '__getattribute__', '__getitem__', '__getnewargs__', '__getslice__', '__gt__', '__hash__', '__init__', '__iter__', '__le__', '__len__', '__lt__', '__mul__', '__ne__', '__new__', '__reduce__', '__reduce_ex__', '__repr__', '__rmul__', '__setattr__', '__sizeof__', '__str__', '__subclasshook__', 'count', 'index']\n"
     ]
    }
   ],
   "source": [
    "# tuple ---> class --> methods ( special / normal)\n",
    "print dir(tuple)"
   ]
  },
  {
   "cell_type": "code",
   "execution_count": 11,
   "metadata": {},
   "outputs": [
    {
     "name": "stdout",
     "output_type": "stream",
     "text": [
      "(1, 2, 3, 4, 4, 4, 5, 6)\n",
      "(1, 2, 3, 4, 4, 4, 5, 6)\n",
      "Help on wrapper_descriptor:\n",
      "\n",
      "__add__(...)\n",
      "    x.__add__(y) <==> x+y\n",
      "\n"
     ]
    }
   ],
   "source": [
    "a = (1,2,3,4)\n",
    "b= (4,4,5,6)\n",
    "print a + b\n",
    "print a.__add__(b)\n",
    "help(tuple.__add__)"
   ]
  },
  {
   "cell_type": "code",
   "execution_count": 13,
   "metadata": {},
   "outputs": [
    {
     "name": "stdout",
     "output_type": "stream",
     "text": [
      "True\n",
      "True\n"
     ]
    }
   ],
   "source": [
    "a = (12,3,40)\n",
    "b = 12\n",
    "print b in a\n",
    "print a.__contains__(b)"
   ]
  },
  {
   "cell_type": "code",
   "execution_count": 14,
   "metadata": {},
   "outputs": [
    {
     "name": "stdout",
     "output_type": "stream",
     "text": [
      "5\n",
      "5\n"
     ]
    }
   ],
   "source": [
    "a = (1,5,60)\n",
    "print a.__getitem__(1)\n",
    "print a[1]"
   ]
  },
  {
   "cell_type": "code",
   "execution_count": 15,
   "metadata": {},
   "outputs": [
    {
     "name": "stdout",
     "output_type": "stream",
     "text": [
      "(1, 5)\n",
      "(1, 5)\n"
     ]
    }
   ],
   "source": [
    "a = (1,5,6)\n",
    "print a.__getslice__(0,2)\n",
    "print a[0:2]"
   ]
  },
  {
   "cell_type": "code",
   "execution_count": 16,
   "metadata": {},
   "outputs": [
    {
     "name": "stdout",
     "output_type": "stream",
     "text": [
      "(1, 2, 3, 1, 2, 3, 1, 2, 3, 1, 2, 3)\n",
      "(1, 2, 3, 1, 2, 3, 1, 2, 3, 1, 2, 3)\n"
     ]
    }
   ],
   "source": [
    "a = (1,2,3)\n",
    "print a * 4\n",
    "print a.__mul__(4)"
   ]
  },
  {
   "cell_type": "code",
   "execution_count": 17,
   "metadata": {},
   "outputs": [
    {
     "ename": "SyntaxError",
     "evalue": "invalid syntax (<ipython-input-17-85c70e01d7e3>, line 8)",
     "output_type": "error",
     "traceback": [
      "\u001b[1;36m  File \u001b[1;32m\"<ipython-input-17-85c70e01d7e3>\"\u001b[1;36m, line \u001b[1;32m8\u001b[0m\n\u001b[1;33m    9print a\u001b[0m\n\u001b[1;37m         ^\u001b[0m\n\u001b[1;31mSyntaxError\u001b[0m\u001b[1;31m:\u001b[0m invalid syntax\n"
     ]
    }
   ],
   "source": [
    "# tuple ---> not supported for modifing the existing daata/ adding the new data\n",
    "a = (4,7,3)\n",
    "print a\n",
    "a.append(100)\n",
    "print a\n",
    "a.append(200)\n",
    "print a\n",
    "a.append(\"soc\")\n",
    "9print a"
   ]
  },
  {
   "cell_type": "code",
   "execution_count": 18,
   "metadata": {},
   "outputs": [
    {
     "name": "stdout",
     "output_type": "stream",
     "text": [
      "3\n",
      "0\n"
     ]
    }
   ],
   "source": [
    "a = (12 ,90 ,12,9,12)\n",
    "print a.count(12)\n",
    "print a.count(89)"
   ]
  },
  {
   "cell_type": "code",
   "execution_count": 19,
   "metadata": {},
   "outputs": [
    {
     "name": "stdout",
     "output_type": "stream",
     "text": [
      "2\n"
     ]
    },
    {
     "ename": "ValueError",
     "evalue": "tuple.index(x): x not in tuple",
     "output_type": "error",
     "traceback": [
      "\u001b[1;31m---------------------------------------------------------------------------\u001b[0m",
      "\u001b[1;31mValueError\u001b[0m                                Traceback (most recent call last)",
      "\u001b[1;32m<ipython-input-19-d3e11a94c2b1>\u001b[0m in \u001b[0;36m<module>\u001b[1;34m()\u001b[0m\n\u001b[0;32m      1\u001b[0m \u001b[0ma\u001b[0m \u001b[1;33m=\u001b[0m \u001b[1;33m(\u001b[0m\u001b[1;36m56\u001b[0m\u001b[1;33m,\u001b[0m\u001b[1;36m90\u001b[0m\u001b[1;33m,\u001b[0m\u001b[1;36m23\u001b[0m\u001b[1;33m,\u001b[0m\u001b[1;36m45\u001b[0m\u001b[1;33m)\u001b[0m\u001b[1;33m\u001b[0m\u001b[0m\n\u001b[0;32m      2\u001b[0m \u001b[1;32mprint\u001b[0m \u001b[0ma\u001b[0m\u001b[1;33m.\u001b[0m\u001b[0mindex\u001b[0m\u001b[1;33m(\u001b[0m\u001b[1;36m23\u001b[0m\u001b[1;33m)\u001b[0m\u001b[1;33m\u001b[0m\u001b[0m\n\u001b[1;32m----> 3\u001b[1;33m \u001b[1;32mprint\u001b[0m \u001b[0ma\u001b[0m\u001b[1;33m.\u001b[0m\u001b[0mindex\u001b[0m\u001b[1;33m(\u001b[0m\u001b[1;36m100\u001b[0m\u001b[1;33m)\u001b[0m\u001b[1;33m\u001b[0m\u001b[0m\n\u001b[0m",
      "\u001b[1;31mValueError\u001b[0m: tuple.index(x): x not in tuple"
     ]
    }
   ],
   "source": [
    "a = (56,90,23,45)\n",
    "print a.index(23)\n",
    "print a.index(100)"
   ]
  },
  {
   "cell_type": "code",
   "execution_count": 20,
   "metadata": {},
   "outputs": [
    {
     "name": "stdout",
     "output_type": "stream",
     "text": [
      "(56, 90, 23, 45)\n",
      "(56, 90, 23, 45, 100)\n"
     ]
    }
   ],
   "source": [
    "a = (56,90,23,45)\n",
    "print a\n",
    "a = list(a)\n",
    "a.append(100)\n",
    "a = tuple(a)\n",
    "print a"
   ]
  },
  {
   "cell_type": "code",
   "execution_count": null,
   "metadata": {},
   "outputs": [],
   "source": []
  }
 ],
 "metadata": {
  "kernelspec": {
   "display_name": "Python 2",
   "language": "python",
   "name": "python2"
  },
  "language_info": {
   "codemirror_mode": {
    "name": "ipython",
    "version": 2
   },
   "file_extension": ".py",
   "mimetype": "text/x-python",
   "name": "python",
   "nbconvert_exporter": "python",
   "pygments_lexer": "ipython2",
   "version": "2.7.16"
  }
 },
 "nbformat": 4,
 "nbformat_minor": 2
}
