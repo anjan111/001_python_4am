{
 "cells": [
  {
   "cell_type": "code",
   "execution_count": 1,
   "metadata": {},
   "outputs": [
    {
     "name": "stdout",
     "output_type": "stream",
     "text": [
      "hello\n",
      "123\n",
      "bye\n"
     ]
    }
   ],
   "source": [
    "# we can write python statements  ---->> we can run all statements ---> we can get the ouput \n",
    "\n",
    "print \"hello\"\n",
    "var = 123\n",
    "print var\n",
    "print \"bye\""
   ]
  },
  {
   "cell_type": "code",
   "execution_count": 2,
   "metadata": {},
   "outputs": [
    {
     "name": "stdout",
     "output_type": "stream",
     "text": [
      "This is Jupyter Notebook\n",
      "And this is my 1st program\n"
     ]
    }
   ],
   "source": [
    "print \"This is Jupyter Notebook\"\n",
    "print \"And this is my 1st program\""
   ]
  },
  {
   "cell_type": "code",
   "execution_count": 1,
   "metadata": {},
   "outputs": [
    {
     "name": "stdout",
     "output_type": "stream",
     "text": [
      "hello\n",
      "hai\n",
      "123\n"
     ]
    }
   ],
   "source": [
    "# What is Syntax\n",
    "'''\n",
    "===>> Set of rules for writing a program\n",
    "'''\n",
    "# What is program\n",
    "'''\n",
    "===>> Collection of instructions \n",
    "to do any one specific task\n",
    "'''\n",
    "# What is instruction\n",
    "'''\n",
    "==>>> A line of code of with in the program\n",
    "==>>> There are 2 instructions\n",
    "\n",
    "1. comments --> An instructions which can't be executable\n",
    "\n",
    " ====>>> single line comment --->> # \n",
    " ===>>> Multiline line comment-->> triple quote\n",
    " \n",
    "2. Statement --> An instruction chich can be executable\n",
    "'''\n",
    "print \"hello\" # statement\n",
    "print \"hai\"\n",
    "var =123 # statement\n",
    "print var"
   ]
  },
  {
   "cell_type": "code",
   "execution_count": 3,
   "metadata": {
    "scrolled": true
   },
   "outputs": [
    {
     "name": "stdout",
     "output_type": "stream",
     "text": [
      "['and', 'as', 'assert', 'break', 'class', 'continue', 'def', 'del', 'elif', 'else', 'except', 'exec', 'finally', 'for', 'from', 'global', 'if', 'import', 'in', 'is', 'lambda', 'not', 'or', 'pass', 'print', 'raise', 'return', 'try', 'while', 'with', 'yield']\n",
      "**************\n",
      "31\n",
      "******\n",
      "True\n",
      "False\n"
     ]
    }
   ],
   "source": [
    "#keywords\n",
    "'''\n",
    "==>> predefined words \n",
    "==>> each and every keyword its having its own specific task\n",
    "'''\n",
    "import keyword # access the keyword lib into program using import keyword\n",
    "print keyword.kwlist# display all keywords\n",
    "print \"**************\"\n",
    "print len(keyword.kwlist)\n",
    "print \"******\"\n",
    "print keyword.iskeyword('break')\n",
    "print keyword.iskeyword('anjan')"
   ]
  },
  {
   "cell_type": "code",
   "execution_count": 5,
   "metadata": {},
   "outputs": [
    {
     "name": "stdout",
     "output_type": "stream",
     "text": [
      "123\n"
     ]
    }
   ],
   "source": [
    "# Identifiers\n",
    "'''\n",
    "===>> User defined words \n",
    "===>> To give the name entities for variables , functions , classes\n",
    "'''\n",
    "# Rules\n",
    "'''\n",
    "===>>> we can use any alphabet   a-z  / A - Z\n",
    "===>>> we can use digit 0-9\n",
    "===>>> we can use underscore  _\n",
    "===>>> we use digits but don't start with digit\n",
    "===>>> don't use keywords\n",
    "===>>> don't use special characters !@#$%^&*()\n",
    "'''\n",
    "# variable\n",
    "'''\n",
    "===>> which are  the names , which are used for to hold the data / we can vary \n",
    "with in the variable\n",
    "\n",
    "===>> We don't need to be declare , we can directly assign the data\n",
    "'''\n",
    "var = 123\n",
    "print  var"
   ]
  },
  {
   "cell_type": "code",
   "execution_count": 6,
   "metadata": {},
   "outputs": [
    {
     "ename": "SyntaxError",
     "evalue": "invalid syntax (<ipython-input-6-4f038444025e>, line 1)",
     "output_type": "error",
     "traceback": [
      "\u001b[1;36m  File \u001b[1;32m\"<ipython-input-6-4f038444025e>\"\u001b[1;36m, line \u001b[1;32m1\u001b[0m\n\u001b[1;33m    4var = 123\u001b[0m\n\u001b[1;37m       ^\u001b[0m\n\u001b[1;31mSyntaxError\u001b[0m\u001b[1;31m:\u001b[0m invalid syntax\n"
     ]
    }
   ],
   "source": [
    "4var = 123\n",
    "print 4var"
   ]
  },
  {
   "cell_type": "code",
   "execution_count": 7,
   "metadata": {},
   "outputs": [
    {
     "ename": "SyntaxError",
     "evalue": "invalid syntax (<ipython-input-7-74fd43d375cc>, line 1)",
     "output_type": "error",
     "traceback": [
      "\u001b[1;36m  File \u001b[1;32m\"<ipython-input-7-74fd43d375cc>\"\u001b[1;36m, line \u001b[1;32m1\u001b[0m\n\u001b[1;33m    while = 45\u001b[0m\n\u001b[1;37m          ^\u001b[0m\n\u001b[1;31mSyntaxError\u001b[0m\u001b[1;31m:\u001b[0m invalid syntax\n"
     ]
    }
   ],
   "source": [
    "while = 45\n",
    "print while"
   ]
  },
  {
   "cell_type": "code",
   "execution_count": 8,
   "metadata": {},
   "outputs": [
    {
     "ename": "SyntaxError",
     "evalue": "invalid syntax (<ipython-input-8-6d679ddd1dbe>, line 1)",
     "output_type": "error",
     "traceback": [
      "\u001b[1;36m  File \u001b[1;32m\"<ipython-input-8-6d679ddd1dbe>\"\u001b[1;36m, line \u001b[1;32m1\u001b[0m\n\u001b[1;33m    wh@r = 12\u001b[0m\n\u001b[1;37m      ^\u001b[0m\n\u001b[1;31mSyntaxError\u001b[0m\u001b[1;31m:\u001b[0m invalid syntax\n"
     ]
    }
   ],
   "source": [
    "wh@r = 12\n",
    "print wh@r"
   ]
  },
  {
   "cell_type": "code",
   "execution_count": 9,
   "metadata": {},
   "outputs": [
    {
     "name": "stdout",
     "output_type": "stream",
     "text": [
      "123\n"
     ]
    }
   ],
   "source": [
    "_var = 123\n",
    "print _var"
   ]
  },
  {
   "cell_type": "code",
   "execution_count": 10,
   "metadata": {},
   "outputs": [
    {
     "name": "stdout",
     "output_type": "stream",
     "text": [
      "1123\n"
     ]
    }
   ],
   "source": [
    "_vaR3 = 1123\n",
    "print _vaR3"
   ]
  },
  {
   "cell_type": "code",
   "execution_count": 11,
   "metadata": {},
   "outputs": [
    {
     "name": "stdout",
     "output_type": "stream",
     "text": [
      "48662208\n",
      "<type 'int'>\n"
     ]
    }
   ],
   "source": [
    "var = 123\n",
    "# memory loc\n",
    "print id(var)# id function used for to know memory loc\n",
    "print type(var) # return the datatype"
   ]
  },
  {
   "cell_type": "code",
   "execution_count": 1,
   "metadata": {},
   "outputs": [
    {
     "name": "stdout",
     "output_type": "stream",
     "text": [
      "<type 'int'>\n",
      "<type 'int'>\n",
      "<type 'int'>\n"
     ]
    }
   ],
   "source": [
    "# datatype\n",
    "'''\n",
    "==>> To know the type of data holded by variables\n",
    "1. fundametal datatype\n",
    "======>>> A single variable can hold single data\n",
    "               # int\n",
    "               # float\n",
    "               # complex\n",
    "               # bool\n",
    "               # Nonetype\n",
    "\n",
    "\n",
    "\n",
    "2. sequencial datatype\n",
    "'''\n",
    "var = -23\n",
    "print type(var)\n",
    "var = 3456\n",
    "print type(var)\n",
    "var = 0\n",
    "print type(var)"
   ]
  },
  {
   "cell_type": "code",
   "execution_count": 2,
   "metadata": {},
   "outputs": [
    {
     "name": "stdout",
     "output_type": "stream",
     "text": [
      "<type 'float'>\n",
      "<type 'float'>\n",
      "<type 'float'>\n"
     ]
    }
   ],
   "source": [
    "var = -12.3243\n",
    "print type(var)\n",
    "var = 0.0\n",
    "print type(var)\n",
    "var = 12.453\n",
    "print type(var)"
   ]
  },
  {
   "cell_type": "code",
   "execution_count": 3,
   "metadata": {},
   "outputs": [
    {
     "name": "stdout",
     "output_type": "stream",
     "text": [
      "<type 'complex'>\n",
      "<type 'complex'>\n"
     ]
    }
   ],
   "source": [
    "#complex ---> real + img --->  X + Yj\n",
    "var = 12+4j\n",
    "print type(var)\n",
    "var = -45 - 56j\n",
    "print type(var)"
   ]
  },
  {
   "cell_type": "code",
   "execution_count": 4,
   "metadata": {},
   "outputs": [
    {
     "name": "stdout",
     "output_type": "stream",
     "text": [
      "<type 'bool'>\n",
      "<type 'bool'>\n"
     ]
    }
   ],
   "source": [
    "var = True\n",
    "print type(var)\n",
    "var  = False\n",
    "print type(var)"
   ]
  },
  {
   "cell_type": "code",
   "execution_count": 5,
   "metadata": {},
   "outputs": [
    {
     "name": "stdout",
     "output_type": "stream",
     "text": [
      "<type 'NoneType'>\n"
     ]
    }
   ],
   "source": [
    "var = None\n",
    "print type(var)"
   ]
  },
  {
   "cell_type": "code",
   "execution_count": 6,
   "metadata": {},
   "outputs": [
    {
     "name": "stdout",
     "output_type": "stream",
     "text": [
      "<type 'str'>\n"
     ]
    }
   ],
   "source": [
    "# sequencial datatype\n",
    "'''\n",
    "===>> A single variable can hold multiple elements \n",
    "1. str\n",
    "\n",
    "2. list\n",
    "\n",
    "3. tuple\n",
    "\n",
    "4. set\n",
    "\n",
    "5. dict\n",
    "'''\n",
    "# str\n",
    "var = \"soc\"\n",
    "print type(var)"
   ]
  },
  {
   "cell_type": "code",
   "execution_count": 7,
   "metadata": {},
   "outputs": [
    {
     "name": "stdout",
     "output_type": "stream",
     "text": [
      "<type 'list'>\n"
     ]
    }
   ],
   "source": [
    "var = [12, 45.3,8+3j]\n",
    "print type(var)"
   ]
  },
  {
   "cell_type": "code",
   "execution_count": 8,
   "metadata": {},
   "outputs": [
    {
     "name": "stdout",
     "output_type": "stream",
     "text": [
      "<type 'tuple'>\n"
     ]
    }
   ],
   "source": [
    "var = (12,45.3, 8+3j)\n",
    "print type(var)"
   ]
  },
  {
   "cell_type": "code",
   "execution_count": 9,
   "metadata": {},
   "outputs": [
    {
     "name": "stdout",
     "output_type": "stream",
     "text": [
      "<type 'set'>\n"
     ]
    }
   ],
   "source": [
    "var = {12,5.67,4+5j}\n",
    "print type(var)"
   ]
  },
  {
   "cell_type": "code",
   "execution_count": 10,
   "metadata": {},
   "outputs": [
    {
     "name": "stdout",
     "output_type": "stream",
     "text": [
      "<type 'dict'>\n"
     ]
    }
   ],
   "source": [
    "var = {12 : \"va\",89.3 : 56}\n",
    "print type(var)"
   ]
  },
  {
   "cell_type": "code",
   "execution_count": 11,
   "metadata": {},
   "outputs": [
    {
     "name": "stdout",
     "output_type": "stream",
     "text": [
      "enter int : 123\n",
      "123\n",
      "<type 'int'>\n",
      "memory :  37455552\n"
     ]
    }
   ],
   "source": [
    "# input() ---> reading the data from keyboard\n",
    "# wap read int display data, memomry, datatype\n",
    "var = input(\"enter int : \")\n",
    "print var\n",
    "print type(var)\n",
    "print \"memory : \",id(var)"
   ]
  },
  {
   "cell_type": "code",
   "execution_count": null,
   "metadata": {},
   "outputs": [],
   "source": [
    "# wap read float display data, memomry, datatype\n",
    "# wap read complex  display data, memomry, datatype\n",
    "# wap read bool display data, memomry, datatype\n",
    "# wap read Nonetype display data, memomry, datatype\n",
    "# wap read str display data, memomry, datatype\n",
    "# wap read list display data, memomry, datatype\n",
    "# wap read tuple display data, memomry, datatype\n",
    "# wap read set display data, memomry, datatype\n",
    "# wap read dict display data, memomry, datatype"
   ]
  }
 ],
 "metadata": {
  "kernelspec": {
   "display_name": "Python 2",
   "language": "python",
   "name": "python2"
  },
  "language_info": {
   "codemirror_mode": {
    "name": "ipython",
    "version": 2
   },
   "file_extension": ".py",
   "mimetype": "text/x-python",
   "name": "python",
   "nbconvert_exporter": "python",
   "pygments_lexer": "ipython2",
   "version": "2.7.16"
  }
 },
 "nbformat": 4,
 "nbformat_minor": 2
}
