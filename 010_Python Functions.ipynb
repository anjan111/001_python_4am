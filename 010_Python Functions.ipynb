{
 "cells": [
  {
   "cell_type": "code",
   "execution_count": null,
   "metadata": {},
   "outputs": [],
   "source": [
    "# function\n",
    "'''\n",
    "==>> Sub  program with in main program\n",
    "==>> Each and Every function with in the program it can do its own task\n",
    "==>> Function  is a sub program , its collection of statements to do any one specific task with in the program\n",
    "==>> We can reduce the code size of the program\n",
    "==>> Execution speed little slow compare all to other programming Languages \n",
    "'''\n",
    "# Types of functions\n",
    "'''\n",
    "==>> Pre defined  function  \n",
    "===========>>> The functions are already defined with in python , \n",
    "                  1. input() , print() , id() , type() , int() , float(), complex() ,bool() , dir(), help()\n",
    "                  \n",
    "===>>> User Defined functions\n",
    "===========>>> The functions are definned by programmer with in current program\n",
    "================>>>>  Function defination\n",
    "================>>>>  Function Call\n",
    "'''\n",
    "# function defination\n",
    "\n",
    "def  fun_name():\n",
    "    '''\n",
    "    Write all statement\n",
    "    with in this block\n",
    "    '''\n",
    "    pass\n",
    "# function call\n",
    "fun_name() # 1st time call\n",
    "fun_name() # 2nd time call\n"
   ]
  },
  {
   "cell_type": "code",
   "execution_count": 1,
   "metadata": {},
   "outputs": [
    {
     "name": "stdout",
     "output_type": "stream",
     "text": [
      "Anjan Kumar\n",
      "Data Science Technical Trainer\n",
      "fdfklfjsfk@kk.com\n",
      "***********\n",
      "Anjan Kumar\n",
      "Data Science Technical Trainer\n",
      "fdfklfjsfk@kk.com\n",
      "##############\n",
      "Anjan Kumar\n",
      "Data Science Technical Trainer\n",
      "fdfklfjsfk@kk.com\n",
      "11111111111111\n",
      "Anjan Kumar\n",
      "Data Science Technical Trainer\n",
      "fdfklfjsfk@kk.com\n"
     ]
    }
   ],
   "source": [
    "# wap print your details in places\n",
    "\n",
    "print \"Anjan Kumar\"\n",
    "print \"Data Science Technical Trainer\"\n",
    "print \"fdfklfjsfk@kk.com\"\n",
    "print \"***********\"\n",
    "print \"Anjan Kumar\"\n",
    "print \"Data Science Technical Trainer\"\n",
    "print \"fdfklfjsfk@kk.com\"\n",
    "print\"##############\"\n",
    "print \"Anjan Kumar\"\n",
    "print \"Data Science Technical Trainer\"\n",
    "print \"fdfklfjsfk@kk.com\"\n",
    "print \"11111111111111\"\n",
    "print \"Anjan Kumar\"\n",
    "print \"Data Science Technical Trainer\"\n",
    "print \"fdfklfjsfk@kk.com\""
   ]
  },
  {
   "cell_type": "code",
   "execution_count": 2,
   "metadata": {},
   "outputs": [
    {
     "name": "stdout",
     "output_type": "stream",
     "text": [
      "Anjan Kumar\n",
      "Data Science Technical Trainer\n",
      "fdfklfjsfk@kk.com\n",
      "***********\n",
      "Anjan Kumar\n",
      "Data Science Technical Trainer\n",
      "fdfklfjsfk@kk.com\n",
      "##############\n",
      "Anjan Kumar\n",
      "Data Science Technical Trainer\n",
      "fdfklfjsfk@kk.com\n",
      "11111111111111\n",
      "Anjan Kumar\n",
      "Data Science Technical Trainer\n",
      "fdfklfjsfk@kk.com\n"
     ]
    }
   ],
   "source": [
    "# function defination\n",
    "def details():\n",
    "    print \"Anjan Kumar\"\n",
    "    print \"Data Science Technical Trainer\"\n",
    "    print \"fdfklfjsfk@kk.com\"  \n",
    "details()# function call1\n",
    "print \"***********\"\n",
    "details()# function call1\n",
    "print\"##############\"\n",
    "details()# function call1\n",
    "print \"11111111111111\"\n",
    "details()# function call1"
   ]
  },
  {
   "cell_type": "code",
   "execution_count": 3,
   "metadata": {},
   "outputs": [
    {
     "name": "stdout",
     "output_type": "stream",
     "text": [
      "enter num : 5\n",
      "fact of  5  is  120\n"
     ]
    }
   ],
   "source": [
    "# wap find the factorial of a number \n",
    "def factotrial():\n",
    "    num = input(\"enter num : \")\n",
    "    fact = 1\n",
    "    for i in range(1, num+1):\n",
    "        fact = fact * i\n",
    "    print \"fact of \",num ,\" is \",fact\n",
    "factotrial()# function call"
   ]
  },
  {
   "cell_type": "code",
   "execution_count": null,
   "metadata": {},
   "outputs": [],
   "source": [
    "# waf find given number is prime or not\n",
    "\n",
    "# waf for fibonic series "
   ]
  },
  {
   "cell_type": "code",
   "execution_count": 1,
   "metadata": {},
   "outputs": [
    {
     "name": "stdout",
     "output_type": "stream",
     "text": [
      "arg1 :  10\n",
      "arg2 :  30\n",
      "arg3 :  90\n",
      "arg1 :  56\n",
      "arg2 :  67\n",
      "arg3 :  136\n"
     ]
    }
   ],
   "source": [
    "# argrument\n",
    "\n",
    "'''\n",
    "==>> to send multiple data elemetnts from function call to function defination\n",
    "\n",
    "def  fun_name(arg1 , arg2 , arg3. ----,argn):\n",
    "        Task\n",
    "        ----\n",
    "        -----\n",
    "fun_name(data1, data2, data3,--------, datan)\n",
    "\n",
    "'''\n",
    "# waf for understanding the functional arguments\n",
    "def fun_name(arg1,arg2,arg3):\n",
    "    print \"arg1 : \",arg1\n",
    "    print \"arg2 : \",arg2\n",
    "    print \"arg3 : \",arg3\n",
    "fun_name(10,30,90)\n",
    "a = 67\n",
    "b = 2\n",
    "fun_name(56,a,a*b+2)"
   ]
  },
  {
   "cell_type": "code",
   "execution_count": 6,
   "metadata": {},
   "outputs": [
    {
     "name": "stdout",
     "output_type": "stream",
     "text": [
      "10\n",
      "20\n",
      "30\n",
      "None\n",
      "None\n",
      "None\n"
     ]
    }
   ],
   "source": [
    "# default arguements\n",
    "def fun_name(arg1 = None,arg2 = None,arg3 =None):\n",
    "    print arg1\n",
    "    print arg2\n",
    "    print arg3\n",
    "fun_name(10,20,30)\n",
    "fun_name()"
   ]
  },
  {
   "cell_type": "code",
   "execution_count": 2,
   "metadata": {},
   "outputs": [
    {
     "name": "stdout",
     "output_type": "stream",
     "text": [
      "var :  70\n"
     ]
    }
   ],
   "source": [
    "# return\n",
    "'''\n",
    "==> to send multiple data elements from function defination to function call\n",
    "==> to terminate the function defination\n",
    "'''\n",
    "def fun_name():\n",
    "    a = 30\n",
    "    b = 40\n",
    "    return  a+b\n",
    "    print a\n",
    "    print b\n",
    "\n",
    "var = fun_name()  \n",
    "print  \"var : \",var"
   ]
  },
  {
   "cell_type": "code",
   "execution_count": 3,
   "metadata": {},
   "outputs": [
    {
     "name": "stdout",
     "output_type": "stream",
     "text": [
      "starting main block\n",
      "starting main function\n",
      "starting  function2\n",
      "starting  function1\n",
      "function1 ending \n",
      "function2 ending\n",
      "ending the main function\n",
      "ending main block\n"
     ]
    }
   ],
   "source": [
    "#program structure\n",
    "\n",
    "def fun_name1():\n",
    "    print \"starting  function1\"\n",
    "    print \"function1 ending \"\n",
    "def fun_name2():\n",
    "    print \"starting  function2\"\n",
    "    fun_name1()\n",
    "    print \"function2 ending\"\n",
    "def main():\n",
    "    print \"starting main function\"\n",
    "    fun_name2()\n",
    "    print \"ending the main function\"\n",
    "if __name__ == \"__main__\":\n",
    "    print \"starting main block\"\n",
    "    main()\n",
    "    print \"ending main block\""
   ]
  },
  {
   "cell_type": "code",
   "execution_count": 5,
   "metadata": {
    "scrolled": true
   },
   "outputs": [
    {
     "name": "stdout",
     "output_type": "stream",
     "text": [
      "enter num : -5\n",
      "fibonic series  : \n",
      "Please provide the positive int argument\n",
      "\n",
      "factorial of  -5   is   :  Please provide the positive int argument\n",
      "None\n",
      "-5 nis prime :  Please provide the positive more than 1\n"
     ]
    }
   ],
   "source": [
    "#wap finding prime , fibonic , factorial \n",
    "def fibonic(num =None ):\n",
    "    '''\n",
    "    --->> no arguments it recived Say provide argument\n",
    "    --->> Non int arguments its recieved then say enter int daataarguments\n",
    "    --->> even int arguments but its less than zero then provide more than Zero int\n",
    "    --->> if num is 6 --->>>  1    1     2    3   5   8\n",
    "    '''\n",
    "    if(num == None):\n",
    "        print \"no arguments I recived , Please provide a single argument\"\n",
    "    elif(not isinstance(num,int)):\n",
    "        print \"Please provide int daata argument\"\n",
    "    elif(num<= 0):\n",
    "        print \"Please provide the positive int argument\"\n",
    "    else:\n",
    "        a,b = 1,1\n",
    "        for ele in range(num):\n",
    "            print a, \"  \",\n",
    "            c = a + b\n",
    "            a = b\n",
    "            b = c\n",
    "\n",
    "def isprime(num=None):\n",
    "    '''\n",
    "    --->> no arguments it recived Say provide argument , return None\n",
    "    --->> Non int arguments its recieved then say enter int daataarguments , return  None\n",
    "    --->> even int arguments but its less than or equal zero then provide more than Zero in , return None\n",
    "    --->> if   6 ---->> return   False\n",
    "    --->> if   7 ---->> return   True\n",
    "    '''\n",
    "    if(num == None):\n",
    "        return \"no arguments I recived , Please provide a single argument\"\n",
    "    elif(not isinstance(num,int)):\n",
    "        return \"Please provide int daata argument\"\n",
    "    elif(num<= 1):\n",
    "        return \"Please provide the positive more than 1\"\n",
    "    else:\n",
    "        for ele in range(2,num):\n",
    "            if(num % ele == 0):\n",
    "                \n",
    "                return False\n",
    "        else:\n",
    "            return True\n",
    "def factorial(num = None):\n",
    "    '''\n",
    "    --->>  no arguments it recived Say provide argument , return None\n",
    "    --->> Non int arguments its recieved then say enter int daataarguments , return  None\n",
    "    --->> even int arguments but its less than  zero then provide more than or equal Zero in , return None\n",
    "    --->>  if   0 , 1 ----->>> 1\n",
    "    --->>  5 -------------->>> 120\n",
    "    '''\n",
    "    if(num == None):\n",
    "        print \"no arguments I recived , Please provide a single argument\"\n",
    "    elif(not isinstance(num,int)):\n",
    "        print \"Please provide int daata argument\"\n",
    "    elif(num< 0):\n",
    "        print \"Please provide the positive int argument\"\n",
    "    else:\n",
    "        fact = 1\n",
    "        for ele in range(1,num+1):\n",
    "            fact = fact *ele\n",
    "        else:\n",
    "            return fact\n",
    "def main():\n",
    "    num = input(\"enter num : \")\n",
    "    print \"fibonic series  : \"\n",
    "    fibonic(num)\n",
    "    print \"\\nfactorial of \",num,\"  is   : \",factorial(num)\n",
    "    print num,\"nis prime : \",isprime(num)\n",
    "if __name__ == \"__main__\":\n",
    "    main()"
   ]
  },
  {
   "cell_type": "code",
   "execution_count": null,
   "metadata": {},
   "outputs": [],
   "source": []
  }
 ],
 "metadata": {
  "kernelspec": {
   "display_name": "Python 2",
   "language": "python",
   "name": "python2"
  },
  "language_info": {
   "codemirror_mode": {
    "name": "ipython",
    "version": 2
   },
   "file_extension": ".py",
   "mimetype": "text/x-python",
   "name": "python",
   "nbconvert_exporter": "python",
   "pygments_lexer": "ipython2",
   "version": "2.7.16"
  }
 },
 "nbformat": 4,
 "nbformat_minor": 2
}
