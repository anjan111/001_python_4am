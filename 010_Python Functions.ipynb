{
 "cells": [
  {
   "cell_type": "code",
   "execution_count": null,
   "metadata": {},
   "outputs": [],
   "source": [
    "# function\n",
    "'''\n",
    "==>> Sub  program with in main program\n",
    "==>> Each and Every function with in the program it can do its own task\n",
    "==>> Function  is a sub program , its collection of statements to do any one specific task with in the program\n",
    "==>> We can reduce the code size of the program\n",
    "==>> Execution speed little slow compare all to other programming Languages \n",
    "'''\n",
    "# Types of functions\n",
    "'''\n",
    "==>> Pre defined  function  \n",
    "===========>>> The functions are already defined with in python , \n",
    "                  1. input() , print() , id() , type() , int() , float(), complex() ,bool() , dir(), help()\n",
    "                  \n",
    "===>>> User Defined functions\n",
    "===========>>> The functions are definned by programmer with in current program\n",
    "================>>>>  Function defination\n",
    "================>>>>  Function Call\n",
    "'''\n",
    "# function defination\n",
    "\n",
    "def  fun_name():\n",
    "    '''\n",
    "    Write all statement\n",
    "    with in this block\n",
    "    '''\n",
    "    pass\n",
    "# function call\n",
    "fun_name() # 1st time call\n",
    "fun_name() # 2nd time call\n"
   ]
  },
  {
   "cell_type": "code",
   "execution_count": 1,
   "metadata": {},
   "outputs": [
    {
     "name": "stdout",
     "output_type": "stream",
     "text": [
      "Anjan Kumar\n",
      "Data Science Technical Trainer\n",
      "fdfklfjsfk@kk.com\n",
      "***********\n",
      "Anjan Kumar\n",
      "Data Science Technical Trainer\n",
      "fdfklfjsfk@kk.com\n",
      "##############\n",
      "Anjan Kumar\n",
      "Data Science Technical Trainer\n",
      "fdfklfjsfk@kk.com\n",
      "11111111111111\n",
      "Anjan Kumar\n",
      "Data Science Technical Trainer\n",
      "fdfklfjsfk@kk.com\n"
     ]
    }
   ],
   "source": [
    "# wap print your details in places\n",
    "\n",
    "print \"Anjan Kumar\"\n",
    "print \"Data Science Technical Trainer\"\n",
    "print \"fdfklfjsfk@kk.com\"\n",
    "print \"***********\"\n",
    "print \"Anjan Kumar\"\n",
    "print \"Data Science Technical Trainer\"\n",
    "print \"fdfklfjsfk@kk.com\"\n",
    "print\"##############\"\n",
    "print \"Anjan Kumar\"\n",
    "print \"Data Science Technical Trainer\"\n",
    "print \"fdfklfjsfk@kk.com\"\n",
    "print \"11111111111111\"\n",
    "print \"Anjan Kumar\"\n",
    "print \"Data Science Technical Trainer\"\n",
    "print \"fdfklfjsfk@kk.com\""
   ]
  },
  {
   "cell_type": "code",
   "execution_count": 2,
   "metadata": {},
   "outputs": [
    {
     "name": "stdout",
     "output_type": "stream",
     "text": [
      "Anjan Kumar\n",
      "Data Science Technical Trainer\n",
      "fdfklfjsfk@kk.com\n",
      "***********\n",
      "Anjan Kumar\n",
      "Data Science Technical Trainer\n",
      "fdfklfjsfk@kk.com\n",
      "##############\n",
      "Anjan Kumar\n",
      "Data Science Technical Trainer\n",
      "fdfklfjsfk@kk.com\n",
      "11111111111111\n",
      "Anjan Kumar\n",
      "Data Science Technical Trainer\n",
      "fdfklfjsfk@kk.com\n"
     ]
    }
   ],
   "source": [
    "# function defination\n",
    "def details():\n",
    "    print \"Anjan Kumar\"\n",
    "    print \"Data Science Technical Trainer\"\n",
    "    print \"fdfklfjsfk@kk.com\"  \n",
    "details()# function call1\n",
    "print \"***********\"\n",
    "details()# function call1\n",
    "print\"##############\"\n",
    "details()# function call1\n",
    "print \"11111111111111\"\n",
    "details()# function call1"
   ]
  },
  {
   "cell_type": "code",
   "execution_count": 3,
   "metadata": {},
   "outputs": [
    {
     "name": "stdout",
     "output_type": "stream",
     "text": [
      "enter num : 5\n",
      "fact of  5  is  120\n"
     ]
    }
   ],
   "source": [
    "# wap find the factorial of a number \n",
    "def factotrial():\n",
    "    num = input(\"enter num : \")\n",
    "    fact = 1\n",
    "    for i in range(1, num+1):\n",
    "        fact = fact * i\n",
    "    print \"fact of \",num ,\" is \",fact\n",
    "factotrial()"
   ]
  },
  {
   "cell_type": "code",
   "execution_count": null,
   "metadata": {},
   "outputs": [],
   "source": [
    "# wap find given number is prime or not\n",
    "\n",
    "# waf for fibonic series "
   ]
  }
 ],
 "metadata": {
  "kernelspec": {
   "display_name": "Python 2",
   "language": "python",
   "name": "python2"
  },
  "language_info": {
   "codemirror_mode": {
    "name": "ipython",
    "version": 2
   },
   "file_extension": ".py",
   "mimetype": "text/x-python",
   "name": "python",
   "nbconvert_exporter": "python",
   "pygments_lexer": "ipython2",
   "version": "2.7.16"
  }
 },
 "nbformat": 4,
 "nbformat_minor": 2
}
