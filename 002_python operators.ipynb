{
 "cells": [
  {
   "cell_type": "markdown",
   "metadata": {},
   "source": [
    "Operators\n",
    "---------------\n",
    "\n",
    "===>>> Special Symbols\n",
    "\n",
    "===>>> which are used for to do the operations on daata ( operands )"
   ]
  },
  {
   "cell_type": "code",
   "execution_count": 1,
   "metadata": {},
   "outputs": [
    {
     "name": "stdout",
     "output_type": "stream",
     "text": [
      "379\n"
     ]
    }
   ],
   "source": [
    "a    =   123\n",
    "\n",
    "b    =   256\n",
    "\n",
    "\n",
    "c    =   a  +  b\n",
    "\n",
    "\n",
    "print  c"
   ]
  },
  {
   "cell_type": "markdown",
   "metadata": {},
   "source": [
    "Types Of Operators\n",
    "----------------------------\n",
    "\n",
    "===>>> There are 6 types Operators \n",
    "\n",
    "1. Arithmetic Operators\n",
    "\n",
    "2. Relational Operators\n",
    "\n",
    "3. Logical Operators\n",
    "\n",
    "4. Bitwise Operators\n",
    "\n",
    "5. Assignment Operators\n",
    "\n",
    "6. Special Operators"
   ]
  },
  {
   "cell_type": "code",
   "execution_count": 2,
   "metadata": {},
   "outputs": [
    {
     "name": "stdout",
     "output_type": "stream",
     "text": [
      "127\n",
      "119\n",
      "492\n",
      "3\n",
      "30\n"
     ]
    }
   ],
   "source": [
    "# Arithmetic Operators\n",
    "\n",
    "'''\n",
    "===>> To do some kind of mathematical Operations\n",
    "1. addition       +\n",
    "2. substraction    -\n",
    "3. Multiplication  *\n",
    "4. Modules         % ---> reminder \n",
    "5. Division        /\n",
    "'''\n",
    "a = 123\n",
    "b = 4\n",
    "print a+b\n",
    "print a - b\n",
    "print a * b\n",
    "print a %b\n",
    "print a / b\n"
   ]
  },
  {
   "cell_type": "code",
   "execution_count": 3,
   "metadata": {},
   "outputs": [
    {
     "name": "stdout",
     "output_type": "stream",
     "text": [
      "1000\n",
      "32\n"
     ]
    }
   ],
   "source": [
    "# exponant    **  --->> power\n",
    "# floor division // -->> coefficent\n",
    "print 10  ** 3  # 1000\n",
    "print 2  **  5  # 32\n"
   ]
  },
  {
   "cell_type": "code",
   "execution_count": 4,
   "metadata": {},
   "outputs": [
    {
     "name": "stdout",
     "output_type": "stream",
     "text": [
      "30\n",
      "30\n"
     ]
    }
   ],
   "source": [
    "a = 123\n",
    "b = 4\n",
    "print a / b\n",
    "print a // b"
   ]
  },
  {
   "cell_type": "code",
   "execution_count": 5,
   "metadata": {},
   "outputs": [
    {
     "name": "stdout",
     "output_type": "stream",
     "text": [
      "30.75\n",
      "30.0\n"
     ]
    }
   ],
   "source": [
    "a = 123.0\n",
    "b = 4.0\n",
    "print a / b\n",
    "print a // b"
   ]
  },
  {
   "cell_type": "code",
   "execution_count": 6,
   "metadata": {},
   "outputs": [
    {
     "name": "stdout",
     "output_type": "stream",
     "text": [
      "False\n",
      "True\n"
     ]
    }
   ],
   "source": [
    "# relational operators\n",
    "'''\n",
    "===>> to do comparision on data ( same datatype)\n",
    "\n",
    "1. lessthan    <\n",
    "2. greaterthan >\n",
    "3. equal too   ==\n",
    "4. not equal   !=\n",
    "5. lessthan or equal   <=\n",
    "6. greaterthan or equak  >=\n",
    "'''\n",
    "print 123 < 120\n",
    "print  120 < 123"
   ]
  },
  {
   "cell_type": "code",
   "execution_count": 7,
   "metadata": {},
   "outputs": [
    {
     "name": "stdout",
     "output_type": "stream",
     "text": [
      "True\n",
      "False\n"
     ]
    }
   ],
   "source": [
    "print 123 > 120\n",
    "print  120 > 123"
   ]
  },
  {
   "cell_type": "code",
   "execution_count": 8,
   "metadata": {},
   "outputs": [
    {
     "name": "stdout",
     "output_type": "stream",
     "text": [
      "True\n",
      "False\n"
     ]
    }
   ],
   "source": [
    "print  120 == 120\n",
    "print  120 == 119\n"
   ]
  },
  {
   "cell_type": "code",
   "execution_count": 9,
   "metadata": {},
   "outputs": [
    {
     "name": "stdout",
     "output_type": "stream",
     "text": [
      "True\n",
      "False\n"
     ]
    }
   ],
   "source": [
    "print    120 != 119\n",
    "print    120  != 120"
   ]
  },
  {
   "cell_type": "code",
   "execution_count": 10,
   "metadata": {},
   "outputs": [
    {
     "name": "stdout",
     "output_type": "stream",
     "text": [
      "True\n",
      "True\n",
      "False\n"
     ]
    }
   ],
   "source": [
    "print  120  <= 120\n",
    "print  120  <= 123\n",
    "print  123  <= 120"
   ]
  },
  {
   "cell_type": "code",
   "execution_count": 11,
   "metadata": {},
   "outputs": [
    {
     "name": "stdout",
     "output_type": "stream",
     "text": [
      "True\n",
      "False\n",
      "True\n"
     ]
    }
   ],
   "source": [
    "print  120  >= 120\n",
    "print  120  >= 123\n",
    "print  123  >= 120"
   ]
  },
  {
   "cell_type": "code",
   "execution_count": 12,
   "metadata": {},
   "outputs": [
    {
     "name": "stdout",
     "output_type": "stream",
     "text": [
      "123\n",
      "123\n",
      "16349\n"
     ]
    }
   ],
   "source": [
    "# Assignment Operator\n",
    "\n",
    "var  = 123  # constant to variable\n",
    "b    = var  # variable to variable\n",
    "c    = b * var + 1220 # expresssio to variabl\n",
    "print var\n",
    "print b\n",
    "print c"
   ]
  },
  {
   "cell_type": "code",
   "execution_count": 13,
   "metadata": {},
   "outputs": [
    {
     "name": "stdout",
     "output_type": "stream",
     "text": [
      "10\n",
      "20\n",
      "30\n",
      "20\n"
     ]
    }
   ],
   "source": [
    "# Compound assigment\n",
    "a = 10\n",
    "b = 20\n",
    "print a\n",
    "print b\n",
    "\n",
    "a += b   #    a =  a+b # operation then update\n",
    "print a\n",
    "print b"
   ]
  },
  {
   "cell_type": "code",
   "execution_count": 14,
   "metadata": {},
   "outputs": [
    {
     "name": "stdout",
     "output_type": "stream",
     "text": [
      "10\n",
      "20\n",
      "-10\n",
      "20\n"
     ]
    }
   ],
   "source": [
    "# Compound assigment\n",
    "a = 10\n",
    "b = 20\n",
    "print a\n",
    "print b\n",
    "\n",
    "a -= b   #    a =  a - b # operation then update\n",
    "print a\n",
    "print b"
   ]
  },
  {
   "cell_type": "code",
   "execution_count": null,
   "metadata": {},
   "outputs": [],
   "source": [
    "# apply all arithmetic operators with in the compound assignment"
   ]
  },
  {
   "cell_type": "code",
   "execution_count": 1,
   "metadata": {},
   "outputs": [
    {
     "name": "stdout",
     "output_type": "stream",
     "text": [
      "True\n",
      "False\n"
     ]
    }
   ],
   "source": [
    "# Boolean data for each  datatype\n",
    "\n",
    "# int            ---  +ve /-ve --> True ,   0---> False\n",
    "# float         ---  +ve /-ve --> True ,   0.0---> False\n",
    "# complex       ---> X+Yj( X,Y --> ( +ve/-ve))-> True ,  0+0j -> False\n",
    "# None         -->>> False\n",
    "# str,list,tuple,set ,dict --> len of it ( 0 ) -> False , o.w -> True \n",
    "\n",
    "# Logical Operator\n",
    "'''\n",
    "1. Logical NOT  ---->>>>> not ( keyword)\n",
    "\n",
    "not  input  ---> ( True / False)\n",
    "\n",
    "\n",
    "input ---> False  , result ---> True\n",
    "input----> True , result -----> False\n",
    "'''\n",
    "\n",
    "print not False\n",
    "print not True"
   ]
  },
  {
   "cell_type": "code",
   "execution_count": 2,
   "metadata": {},
   "outputs": [
    {
     "name": "stdout",
     "output_type": "stream",
     "text": [
      "False\n",
      "False\n",
      "True\n"
     ]
    }
   ],
   "source": [
    "print not -123\n",
    "print not 908\n",
    "print not 0"
   ]
  },
  {
   "cell_type": "code",
   "execution_count": 3,
   "metadata": {},
   "outputs": [
    {
     "name": "stdout",
     "output_type": "stream",
     "text": [
      "False\n",
      "True\n"
     ]
    }
   ],
   "source": [
    "print   not \"soc\"\n",
    "print not []"
   ]
  },
  {
   "cell_type": "code",
   "execution_count": 5,
   "metadata": {},
   "outputs": [
    {
     "name": "stdout",
     "output_type": "stream",
     "text": [
      "67\n",
      "[]\n",
      "[]\n",
      "{}\n"
     ]
    }
   ],
   "source": [
    "# Logical AND  --> and\n",
    "'''\n",
    "input1   and  input2 ---> input1 / input2\n",
    "\n",
    "input1 --> False case --> result --> input1\n",
    "input1 --> True case ---> result --> input2\n",
    "\n",
    "'''\n",
    "print  34 and  67 # 67\n",
    "print  34 and []  # []\n",
    "print [] and 34   # []\n",
    "print {} and ()   # {}"
   ]
  },
  {
   "cell_type": "code",
   "execution_count": 6,
   "metadata": {},
   "outputs": [
    {
     "name": "stdout",
     "output_type": "stream",
     "text": [
      "34\n",
      "34\n",
      "34\n",
      "()\n"
     ]
    }
   ],
   "source": [
    "# Logical OR  --> or\n",
    "'''\n",
    "input1   or  input2 ---> input1 / input2\n",
    "\n",
    "input1 --> False case --> result --> input2\n",
    "input1 --> True case ---> result --> input1\n",
    "\n",
    "'''\n",
    "print  34 or  67 # 34\n",
    "print  34 or []  # 34\n",
    "print [] or 34   # 34\n",
    "print {} or ()   # ()"
   ]
  },
  {
   "cell_type": "code",
   "execution_count": 8,
   "metadata": {},
   "outputs": [
    {
     "name": "stdout",
     "output_type": "stream",
     "text": [
      "[3, 5]\n",
      "34\n",
      "34\n",
      "set([1, 4])\n"
     ]
    }
   ],
   "source": [
    "print  [3,5] or  67 # [3,5]\n",
    "print  34 or []  # 34\n",
    "print [] or 34   # 34\n",
    "print {1,4} or (1,2)   # ()"
   ]
  },
  {
   "cell_type": "code",
   "execution_count": 9,
   "metadata": {},
   "outputs": [
    {
     "name": "stdout",
     "output_type": "stream",
     "text": [
      "enter year : 1900\n",
      "False\n"
     ]
    }
   ],
   "source": [
    "# write WAP find the given year is leap ot not\n",
    "year = input(\"enter year : \")\n",
    "print (year%4 == 0) and (year% 100 !=0 or (year % 400 == 0))"
   ]
  },
  {
   "cell_type": "code",
   "execution_count": 10,
   "metadata": {},
   "outputs": [
    {
     "name": "stdout",
     "output_type": "stream",
     "text": [
      "enter year : 2000\n",
      "True\n"
     ]
    }
   ],
   "source": [
    "# write WAP find the given year is leap ot not\n",
    "year = input(\"enter year : \")\n",
    "print (year%4 == 0) and (year% 100 !=0 or (year % 400 == 0))"
   ]
  },
  {
   "cell_type": "code",
   "execution_count": 11,
   "metadata": {},
   "outputs": [
    {
     "name": "stdout",
     "output_type": "stream",
     "text": [
      "enter year : 2004\n",
      "True\n"
     ]
    }
   ],
   "source": [
    "# write WAP find the given year is leap ot not\n",
    "year = input(\"enter year : \")\n",
    "print (year%4 == 0) and (year% 100 !=0 or (year % 400 == 0))"
   ]
  },
  {
   "cell_type": "code",
   "execution_count": 12,
   "metadata": {},
   "outputs": [
    {
     "name": "stdout",
     "output_type": "stream",
     "text": [
      "enter year : 1993\n",
      "False\n"
     ]
    }
   ],
   "source": [
    "# write WAP find the given year is leap ot not\n",
    "year = input(\"enter year : \")\n",
    "print (year%4 == 0) and (year% 100 !=0 or (year % 400 == 0))"
   ]
  },
  {
   "cell_type": "code",
   "execution_count": 13,
   "metadata": {},
   "outputs": [
    {
     "name": "stdout",
     "output_type": "stream",
     "text": [
      "enter num : 15\n",
      "False\n"
     ]
    }
   ],
   "source": [
    "# wap find given number is divissble by both 4 and 5\n",
    "\n",
    "num = input(\"enter num : \")\n",
    "print  num%4 == 0  and num %5 == 0"
   ]
  },
  {
   "cell_type": "code",
   "execution_count": 14,
   "metadata": {},
   "outputs": [
    {
     "name": "stdout",
     "output_type": "stream",
     "text": [
      "enter num : 20\n",
      "True\n"
     ]
    }
   ],
   "source": [
    "# wap find given number is divissble by both 4 and 5\n",
    "\n",
    "num = input(\"enter num : \")\n",
    "print  num%4 == 0  and num %5 == 0"
   ]
  },
  {
   "cell_type": "code",
   "execution_count": 1,
   "metadata": {},
   "outputs": [
    {
     "name": "stdout",
     "output_type": "stream",
     "text": [
      "39486528\n",
      "39486288\n",
      "39486528\n",
      "False\n",
      "True\n"
     ]
    }
   ],
   "source": [
    "# Special Operators\n",
    "'''\n",
    "--->> Identity Operator \n",
    "       ==>> To check the memory loc of two objects are same or not\n",
    "       \n",
    "       1. is\n",
    "        \n",
    "           True --->> memory is same\n",
    "           False--->> memory is different\n",
    "           \n",
    "       2. is not\n",
    "       \n",
    "           False --->> memory is same\n",
    "           True--->> memory is different      \n",
    "'''\n",
    "a = 10\n",
    "b = 20\n",
    "c = 10\n",
    "print id(a)\n",
    "print id(b)\n",
    "print id(c)\n",
    "print  a is b # False\n",
    "print a is c # True"
   ]
  },
  {
   "cell_type": "code",
   "execution_count": 2,
   "metadata": {},
   "outputs": [
    {
     "name": "stdout",
     "output_type": "stream",
     "text": [
      "68315528\n",
      "68352712\n",
      "68315528\n",
      "False\n",
      "True\n"
     ]
    }
   ],
   "source": [
    "a = [10,20,30]\n",
    "b = [10,20,30]\n",
    "c = a\n",
    "print id(a)\n",
    "print id(b)\n",
    "print id(c)\n",
    "print  a is b # False\n",
    "print a is c # True"
   ]
  },
  {
   "cell_type": "code",
   "execution_count": 3,
   "metadata": {},
   "outputs": [
    {
     "name": "stdout",
     "output_type": "stream",
     "text": [
      "39486528\n",
      "39486288\n",
      "39486528\n",
      "True\n",
      "False\n"
     ]
    }
   ],
   "source": [
    "a = 10\n",
    "b = 20\n",
    "c = 10\n",
    "print id(a)\n",
    "print id(b)\n",
    "print id(c)\n",
    "print  a is not b # True\n",
    "print a is not c # False"
   ]
  },
  {
   "cell_type": "code",
   "execution_count": 5,
   "metadata": {},
   "outputs": [
    {
     "name": "stdout",
     "output_type": "stream",
     "text": [
      "False\n",
      "True\n",
      "True\n",
      "False\n"
     ]
    }
   ],
   "source": [
    "# Membership Operators\n",
    "'''\n",
    "===>> To checking the a element is the member with in the  group of element \n",
    "\n",
    "    1. in \n",
    "    \n",
    "        True ---> element is the member of group of elements\n",
    "        False--> not a member \n",
    "    2. not in\n",
    "    \n",
    "        False ---> element is the member of group of elements\n",
    "        True--> not a member \n",
    "'''\n",
    "a = 10\n",
    "b = [89,23,45,100]\n",
    "c = 23\n",
    "print a in b # False\n",
    "print c in b # True\n",
    "print a not in b # True\n",
    "print c not in b # False"
   ]
  },
  {
   "cell_type": "code",
   "execution_count": 6,
   "metadata": {},
   "outputs": [
    {
     "name": "stdout",
     "output_type": "stream",
     "text": [
      "8\n"
     ]
    }
   ],
   "source": [
    "#bitwise operators\n",
    "'''\n",
    "==>> which are operating on binary data on given input data\n",
    "\n",
    "1. Procedure\n",
    "    1. step :  input  --->> Binary input data\n",
    "    2. step :  do the operation on binary data input  --->> result is binary\n",
    "    3. step : binary result --->>> decimal result\n",
    "'''\n",
    "\n",
    "# bit wise  and    &\n",
    "'''\n",
    "0  0 ---> 0\n",
    "0  1 ---> 0\n",
    "1  0 ---> 0\n",
    "1  1 ---> 1\n",
    "'''\n",
    "print 10 & 13"
   ]
  },
  {
   "cell_type": "code",
   "execution_count": 7,
   "metadata": {},
   "outputs": [
    {
     "name": "stdout",
     "output_type": "stream",
     "text": [
      "6\n"
     ]
    }
   ],
   "source": [
    "print 23 & 14"
   ]
  },
  {
   "cell_type": "code",
   "execution_count": 9,
   "metadata": {},
   "outputs": [
    {
     "name": "stdout",
     "output_type": "stream",
     "text": [
      "36\n"
     ]
    }
   ],
   "source": [
    "print 52 & 38"
   ]
  },
  {
   "cell_type": "code",
   "execution_count": 1,
   "metadata": {},
   "outputs": [
    {
     "name": "stdout",
     "output_type": "stream",
     "text": [
      "31\n"
     ]
    }
   ],
   "source": [
    "# bitwise OR   |\n",
    "'''\n",
    "0  0 ---->  0\n",
    "0  1 ---->  1\n",
    "1  0 --->   1\n",
    "1  1 --->   1\n",
    "'''\n",
    "\n",
    "print 13 | 18"
   ]
  },
  {
   "cell_type": "code",
   "execution_count": 2,
   "metadata": {},
   "outputs": [
    {
     "name": "stdout",
     "output_type": "stream",
     "text": [
      "59\n"
     ]
    }
   ],
   "source": [
    "print  43  | 27"
   ]
  },
  {
   "cell_type": "code",
   "execution_count": 3,
   "metadata": {},
   "outputs": [
    {
     "name": "stdout",
     "output_type": "stream",
     "text": [
      "31\n",
      "48\n"
     ]
    }
   ],
   "source": [
    "# Bitwise  XOR   ^\n",
    "'''\n",
    "0   0   ---->  0 \n",
    "0   1   ---->  1\n",
    "1   0   ---->  1\n",
    "1   1   ---->  0\n",
    "'''\n",
    "print 13 ^ 18\n",
    "print  43 ^ 27"
   ]
  },
  {
   "cell_type": "code",
   "execution_count": 5,
   "metadata": {},
   "outputs": [
    {
     "name": "stdout",
     "output_type": "stream",
     "text": [
      "208\n",
      "168\n"
     ]
    }
   ],
   "source": [
    "# lefshift  <<\n",
    "'''\n",
    "num  << no_bit\n",
    "\n",
    "==>> num --->> binary\n",
    "==>> adding no_bits of zeros at right side\n",
    "==>> binary result --->>> decimal\n",
    "'''\n",
    "print 13 << 4\n",
    "print 21  << 3"
   ]
  },
  {
   "cell_type": "code",
   "execution_count": 6,
   "metadata": {},
   "outputs": [
    {
     "name": "stdout",
     "output_type": "stream",
     "text": [
      "3\n",
      "5\n"
     ]
    }
   ],
   "source": [
    "# right shift  >>\n",
    "'''\n",
    "num  >> no_bit\n",
    "\n",
    "==>> num --->> binary\n",
    "==>> removing no_bits of from right side\n",
    "==>> binary result --->>> decimal\n",
    "'''\n",
    "print 13 >> 2\n",
    "print 21  >> 2"
   ]
  },
  {
   "cell_type": "code",
   "execution_count": 8,
   "metadata": {},
   "outputs": [
    {
     "name": "stdout",
     "output_type": "stream",
     "text": [
      "-18\n",
      "44\n"
     ]
    }
   ],
   "source": [
    "# Bitwise NOT   ~\n",
    "'''\n",
    "~ num  ---->  -( num + 1) --> -num -1\n",
    "~(-num) ---> -(-num +1) --->  num - 1\n",
    "'''\n",
    "print ~ 17  #  -17 -1 ===>> -18\n",
    "print  ~  -45  #   45 -1 ===>> 44"
   ]
  },
  {
   "cell_type": "code",
   "execution_count": null,
   "metadata": {},
   "outputs": [],
   "source": []
  }
 ],
 "metadata": {
  "kernelspec": {
   "display_name": "Python 2",
   "language": "python",
   "name": "python2"
  },
  "language_info": {
   "codemirror_mode": {
    "name": "ipython",
    "version": 2
   },
   "file_extension": ".py",
   "mimetype": "text/x-python",
   "name": "python",
   "nbconvert_exporter": "python",
   "pygments_lexer": "ipython2",
   "version": "2.7.16"
  }
 },
 "nbformat": 4,
 "nbformat_minor": 2
}
