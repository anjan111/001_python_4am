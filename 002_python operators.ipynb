{
 "cells": [
  {
   "cell_type": "markdown",
   "metadata": {},
   "source": [
    "Operators\n",
    "---------------\n",
    "\n",
    "===>>> Special Symbols\n",
    "\n",
    "===>>> which are used for to do the operations on daata ( operands )"
   ]
  },
  {
   "cell_type": "code",
   "execution_count": 1,
   "metadata": {},
   "outputs": [
    {
     "name": "stdout",
     "output_type": "stream",
     "text": [
      "379\n"
     ]
    }
   ],
   "source": [
    "a    =   123\n",
    "\n",
    "b    =   256\n",
    "\n",
    "\n",
    "c    =   a  +  b\n",
    "\n",
    "\n",
    "print  c"
   ]
  },
  {
   "cell_type": "markdown",
   "metadata": {},
   "source": [
    "Types Of Operators\n",
    "----------------------------\n",
    "\n",
    "===>>> There are 6 types Operators \n",
    "\n",
    "1. Arithmetic Operators\n",
    "\n",
    "2. Relational Operators\n",
    "\n",
    "3. Logical Operators\n",
    "\n",
    "4. Bitwise Operators\n",
    "\n",
    "5. Assignment Operators\n",
    "\n",
    "6. Special Operators"
   ]
  },
  {
   "cell_type": "code",
   "execution_count": 2,
   "metadata": {},
   "outputs": [
    {
     "name": "stdout",
     "output_type": "stream",
     "text": [
      "127\n",
      "119\n",
      "492\n",
      "3\n",
      "30\n"
     ]
    }
   ],
   "source": [
    "# Arithmetic Operators\n",
    "\n",
    "'''\n",
    "===>> To do some kind of mathematical Operations\n",
    "1. addition       +\n",
    "2. substraction    -\n",
    "3. Multiplication  *\n",
    "4. Modules         % ---> reminder \n",
    "5. Division        /\n",
    "'''\n",
    "a = 123\n",
    "b = 4\n",
    "print a+b\n",
    "print a - b\n",
    "print a * b\n",
    "print a %b\n",
    "print a / b\n"
   ]
  },
  {
   "cell_type": "code",
   "execution_count": 3,
   "metadata": {},
   "outputs": [
    {
     "name": "stdout",
     "output_type": "stream",
     "text": [
      "1000\n",
      "32\n"
     ]
    }
   ],
   "source": [
    "# exponant    **  --->> power\n",
    "# floor division // -->> coefficent\n",
    "print 10  ** 3  # 1000\n",
    "print 2  **  5  # 32\n"
   ]
  },
  {
   "cell_type": "code",
   "execution_count": 4,
   "metadata": {},
   "outputs": [
    {
     "name": "stdout",
     "output_type": "stream",
     "text": [
      "30\n",
      "30\n"
     ]
    }
   ],
   "source": [
    "a = 123\n",
    "b = 4\n",
    "print a / b\n",
    "print a // b"
   ]
  },
  {
   "cell_type": "code",
   "execution_count": 5,
   "metadata": {},
   "outputs": [
    {
     "name": "stdout",
     "output_type": "stream",
     "text": [
      "30.75\n",
      "30.0\n"
     ]
    }
   ],
   "source": [
    "a = 123.0\n",
    "b = 4.0\n",
    "print a / b\n",
    "print a // b"
   ]
  },
  {
   "cell_type": "code",
   "execution_count": 6,
   "metadata": {},
   "outputs": [
    {
     "name": "stdout",
     "output_type": "stream",
     "text": [
      "False\n",
      "True\n"
     ]
    }
   ],
   "source": [
    "# relational operators\n",
    "'''\n",
    "===>> to do comparision on data ( same datatype)\n",
    "\n",
    "1. lessthan    <\n",
    "2. greaterthan >\n",
    "3. equal too   ==\n",
    "4. not equal   !=\n",
    "5. lessthan or equal   <=\n",
    "6. greaterthan or equak  >=\n",
    "'''\n",
    "print 123 < 120\n",
    "print  120 < 123"
   ]
  },
  {
   "cell_type": "code",
   "execution_count": 7,
   "metadata": {},
   "outputs": [
    {
     "name": "stdout",
     "output_type": "stream",
     "text": [
      "True\n",
      "False\n"
     ]
    }
   ],
   "source": [
    "print 123 > 120\n",
    "print  120 > 123"
   ]
  },
  {
   "cell_type": "code",
   "execution_count": 8,
   "metadata": {},
   "outputs": [
    {
     "name": "stdout",
     "output_type": "stream",
     "text": [
      "True\n",
      "False\n"
     ]
    }
   ],
   "source": [
    "print  120 == 120\n",
    "print  120 == 119\n"
   ]
  },
  {
   "cell_type": "code",
   "execution_count": 9,
   "metadata": {},
   "outputs": [
    {
     "name": "stdout",
     "output_type": "stream",
     "text": [
      "True\n",
      "False\n"
     ]
    }
   ],
   "source": [
    "print    120 != 119\n",
    "print    120  != 120"
   ]
  },
  {
   "cell_type": "code",
   "execution_count": 10,
   "metadata": {},
   "outputs": [
    {
     "name": "stdout",
     "output_type": "stream",
     "text": [
      "True\n",
      "True\n",
      "False\n"
     ]
    }
   ],
   "source": [
    "print  120  <= 120\n",
    "print  120  <= 123\n",
    "print  123  <= 120"
   ]
  },
  {
   "cell_type": "code",
   "execution_count": 11,
   "metadata": {},
   "outputs": [
    {
     "name": "stdout",
     "output_type": "stream",
     "text": [
      "True\n",
      "False\n",
      "True\n"
     ]
    }
   ],
   "source": [
    "print  120  >= 120\n",
    "print  120  >= 123\n",
    "print  123  >= 120"
   ]
  },
  {
   "cell_type": "code",
   "execution_count": 12,
   "metadata": {},
   "outputs": [
    {
     "name": "stdout",
     "output_type": "stream",
     "text": [
      "123\n",
      "123\n",
      "16349\n"
     ]
    }
   ],
   "source": [
    "# Assignment Operator\n",
    "\n",
    "var  = 123  # constant to variable\n",
    "b    = var  # variable to variable\n",
    "c    = b * var + 1220 # expresssio to variabl\n",
    "print var\n",
    "print b\n",
    "print c"
   ]
  },
  {
   "cell_type": "code",
   "execution_count": 13,
   "metadata": {},
   "outputs": [
    {
     "name": "stdout",
     "output_type": "stream",
     "text": [
      "10\n",
      "20\n",
      "30\n",
      "20\n"
     ]
    }
   ],
   "source": [
    "# Compound assigment\n",
    "a = 10\n",
    "b = 20\n",
    "print a\n",
    "print b\n",
    "\n",
    "a += b   #    a =  a+b # operation then update\n",
    "print a\n",
    "print b"
   ]
  },
  {
   "cell_type": "code",
   "execution_count": 14,
   "metadata": {},
   "outputs": [
    {
     "name": "stdout",
     "output_type": "stream",
     "text": [
      "10\n",
      "20\n",
      "-10\n",
      "20\n"
     ]
    }
   ],
   "source": [
    "# Compound assigment\n",
    "a = 10\n",
    "b = 20\n",
    "print a\n",
    "print b\n",
    "\n",
    "a -= b   #    a =  a - b # operation then update\n",
    "print a\n",
    "print b"
   ]
  },
  {
   "cell_type": "code",
   "execution_count": null,
   "metadata": {},
   "outputs": [],
   "source": [
    "# apply all arithmetic operators with in the compound assignment"
   ]
  },
  {
   "cell_type": "code",
   "execution_count": null,
   "metadata": {},
   "outputs": [],
   "source": [
    "# int \n",
    "# float\n",
    "# complex\n",
    "# bool\n",
    "# None \n",
    "# str\n",
    "# list\n",
    "# tuple\n",
    "# set\n",
    "# dict\n"
   ]
  },
  {
   "cell_type": "code",
   "execution_count": null,
   "metadata": {},
   "outputs": [],
   "source": [
    "# Logical Operator\n",
    "# Special Operators\n",
    "# Bitwise Operators"
   ]
  }
 ],
 "metadata": {
  "kernelspec": {
   "display_name": "Python 2",
   "language": "python",
   "name": "python2"
  },
  "language_info": {
   "codemirror_mode": {
    "name": "ipython",
    "version": 2
   },
   "file_extension": ".py",
   "mimetype": "text/x-python",
   "name": "python",
   "nbconvert_exporter": "python",
   "pygments_lexer": "ipython2",
   "version": "2.7.16"
  }
 },
 "nbformat": 4,
 "nbformat_minor": 2
}
